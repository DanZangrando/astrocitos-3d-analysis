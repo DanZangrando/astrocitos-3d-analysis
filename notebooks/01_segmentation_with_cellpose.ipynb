{
 "cells": [
  {
   "cell_type": "markdown",
   "id": "1471d4c7",
   "metadata": {},
   "source": [
    "# Cuaderno de Segmentación y Análisis Calibrado de Astrocitos\n",
    "\n",
    "**Objetivo:** Este notebook detalla un flujo de trabajo para identificar núcleos de astrocitos, guardando y visualizando cada paso de filtrado. El análisis y la visualización están **calibrados con las dimensiones físicas del vóxel** para asegurar la precisión y reproducibilidad científica.\n",
    "\n",
    "**Flujo de Trabajo:**\n",
    "1.  **Configuración**: Definición de rutas y parámetros de calibración física y procesamiento.\n",
    "2.  **Carga de Datos**: Carga de la imagen original (DAPI, GFAP y Microglía).\n",
    "3.  **Pre-procesamiento (Otsu)**: Limpieza del canal DAPI.\n",
    "4.  **Segmentación (Cellpose)**: Segmentación de todos los núcleos.\n",
    "5.  **Filtrado Combinado**: Selección de núcleos por señal GFAP y exclusión por proximidad a señal de Microglía.\n",
    "6.  **Post-procesamiento (Tamaño Físico)**: Limpieza final por volumen físico (µm³).\n",
    "7.  **Visualización Integrada**: Visualización de todas las máscaras intermedias y finales en Napari."
   ]
  },
  {
   "cell_type": "markdown",
   "id": "0dda1cf9",
   "metadata": {},
   "source": [
    "## Paso 0: Activar el Backend Gráfico\n",
    "\n",
    "**Importante:** Ejecuta esta celda una sola vez por sesión. El comando mágico `%gui qt` prepara el notebook para mostrar ventanas interactivas como las de Napari."
   ]
  },
  {
   "cell_type": "code",
   "execution_count": 1,
   "id": "c69ea4a5",
   "metadata": {},
   "outputs": [],
   "source": [
    "%gui qt"
   ]
  },
  {
   "cell_type": "markdown",
   "id": "2ffefd24",
   "metadata": {},
   "source": [
    "## Paso 1: Configuración de Rutas y Parámetros\n",
    "\n",
    "Esta celda centraliza todas las variables que controlan el flujo de trabajo. Definir los parámetros aquí permite ajustar fácilmente el análisis para diferentes imágenes sin modificar el código en las celdas posteriores.\n",
    "\n",
    "### Fundamento del Filtrado y Reproducibilidad Científica 🔬\n",
    "\n",
    "La estrategia de este cuaderno se basa en un **filtrado secuencial**, un método robusto y común en el análisis de imágenes biológicas. En lugar de depender de un único algoritmo \"mágico\", aplicamos una serie de filtros lógicos, cada uno diseñado para eliminar un tipo específico de artefacto o señal no deseada.\n",
    "\n",
    "Este enfoque mejora la **reproducibilidad científica** por varias razones:\n",
    "1.  **Transparencia**: Cada paso del filtrado (Otsu, Cellpose, Co-localización, Tamaño) es explícito y sus parámetros están claramente definidos.\n",
    "2.  **Objetividad**: Al definir umbrales y parámetros numéricos, reducimos la subjetividad inherente a la selección manual.\n",
    "3.  **Adaptabilidad**: Si se utiliza un nuevo set de imágenes, solo es necesario reajustar los parámetros en esta celda para adaptar el mismo flujo de trabajo lógico, manteniendo la consistencia del método.\n",
    "4.  **Calibración**: En el Paso 2, la calibración física (tamaño de vóxel en X, Y, Z) se lee automáticamente desde los metadatos OME-XML del archivo `.tif` utilizando `tifffile`. A partir de esos valores calculamos `PHYSICAL_SCALE` y `VOXEL_VOLUME_UM3` y convertimos `MIN_VOLUME_UM3` a `MIN_VOLUME_VOXELS` sin intervención manual.\n",
    "\n",
    "---\n",
    "\n",
    "### Variables de Parámetros de Procesamiento\n",
    "\n",
    "* **`NUCLEUS_DIAMETER`**:\n",
    "    * **Uso**: En la **Celda de Segmentación con Cellpose**.\n",
    "    * **Explicación**: Es el parámetro más importante para Cellpose. Le informa al modelo sobre el tamaño esperado (en píxeles) de los objetos que debe buscar. Un valor correcto mejora drásticamente la precisión de la segmentación.\n",
    "\n",
    "* **`MAX_DILATION_ITERATIONS`**:\n",
    "    * **Uso**: En la **Celda de Filtrado Combinado**.\n",
    "    * **Explicación**: Controla la **distancia máxima de búsqueda** para la señal de GFAP o microglía alrededor de cada núcleo. El script expandirá un anillo hasta este número de iteraciones buscando una señal significativa.\n",
    "\n",
    "* **`GFAP_INTENSITY_THRESHOLD`**:\n",
    "    * **Uso**: En la **Celda de Filtrado Combinado**.\n",
    "    * **Explicación**: Es el umbral de decisión para considerar que una señal GFAP es positiva. Si la intensidad media en el anillo de búsqueda supera este valor (y se encuentra antes que la señal de microglía), el núcleo es aceptado.\n",
    "\n",
    "* **`MICROGLIA_INTENSITY_THRESHOLD`** (Nuevo):\n",
    "    * **Uso**: En la **Celda de Filtrado Combinado**.\n",
    "    * **Explicación**: Es el umbral de decisión para la exclusión. Si la intensidad media de la microglía en el anillo de búsqueda supera este valor antes que la señal de GFAP, el núcleo se descarta.\n",
    "\n",
    "* **`MIN_VOLUME_UM3`**:\n",
    "    * **Uso**: En la **Celda de Post-procesamiento por Tamaño**.\n",
    "    * **Explicación**: Es el parámetro para el filtro de limpieza final, **definido en unidades físicas (micrómetros cúbicos, µm³)**. El script lo convierte automáticamente a un umbral en vóxeles (`MIN_VOLUME_VOXELS`) usando las dimensiones de calibración leídas del OME-XML."
   ]
  },
  {
   "cell_type": "code",
   "execution_count": null,
   "id": "9dd8f01c",
   "metadata": {},
   "outputs": [
    {
     "name": "stdout",
     "output_type": "stream",
     "text": [
      "Parámetros de procesamiento definidos. La calibración física se obtendrá de metadatos del TIF o del override JSON si existe.\n"
     ]
    }
   ],
   "source": [
    "from pathlib import Path\n",
    "\n",
    "\n",
    "# --- Rutas de Archivos ---\n",
    "project_root = Path.cwd().parent\n",
    "base_filename = \"Inmuno 26-07-23.lif - CTL 1-2 a\"\n",
    "subfolder = \"CTL/CTL 1-2\"\n",
    "image_path = project_root / f\"data/raw/{subfolder}/{base_filename}.tif\"\n",
    "\n",
    "\n",
    "# --- Rutas de Salida ---\n",
    "output_dir = project_root / \"data/processed\" / base_filename\n",
    "output_dir.mkdir(parents=True, exist_ok=True)\n",
    "otsu_mask_path = output_dir / \"01_otsu_mask.tif\"\n",
    "cellpose_mask_path = output_dir / \"02_cellpose_mask.tif\"\n",
    "gfap_filtered_mask_path = output_dir / \"03_gfap_microglia_filtered_mask.tif\"\n",
    "final_mask_path = output_dir / \"04_final_astrocytes_mask.tif\"\n",
    "\n",
    "\n",
    "# --- Archivo opcional de overrides de calibración (si no hay metadatos en el TIF) ---\n",
    "calibration_overrides_path = project_root / \"data/calibration_overrides.json\"  # (opcional, legado)\n",
    "streamlit_calibration_path = project_root / \"streamlit/calibration.json\"  # calibración global preferida\n",
    "\n",
    "\n",
    "# --- Parámetros de Procesamiento ---\n",
    "# NOTA: Los parámetros de calibración física se leerán automáticamente del archivo de imagen.\n",
    "NUCLEUS_DIAMETER = 30\n",
    "MAX_DILATION_ITERATIONS = 20\n",
    "GFAP_INTENSITY_THRESHOLD = 10\n",
    "MICROGLIA_INTENSITY_THRESHOLD = 150\n",
    "MIN_VOLUME_UM3 = 75\n",
    "\n",
    "\n",
    "# La conversión de MIN_VOLUME_UM3 a vóxeles se hará después de leer la calibración.\n",
    "print(\"Parámetros de procesamiento definidos. La calibración física se obtendrá de metadatos del TIF o del override JSON si existe.\")"
   ]
  },
  {
   "cell_type": "code",
   "execution_count": 12,
   "id": "be2d2cb9",
   "metadata": {},
   "outputs": [],
   "source": [
    "# Utilidades para leer metadatos OME-XML de forma robusta con manejo de unidades\n",
    "\n",
    "\n",
    "def _to_um(value: float, unit: str | None) -> float | None:\n",
    "\n",
    "    \"\"\"Convierte un valor de longitud a micrómetros (µm) usando una unidad OME común.\"\"\"\n",
    "\n",
    "    if value is None:\n",
    "\n",
    "        return None\n",
    "\n",
    "    if not unit:\n",
    "\n",
    "        return float(value)\n",
    "\n",
    "    unit = unit.strip().lower()\n",
    "\n",
    "    # Mapeo básico de unidades a µm\n",
    "\n",
    "    if unit in {\"µm\", \"um\", \"micrometer\", \"micrometre\"}:\n",
    "\n",
    "        return float(value)\n",
    "\n",
    "    if unit in {\"nm\", \"nanometer\", \"nanometre\"}:\n",
    "\n",
    "        return float(value) / 1000.0\n",
    "\n",
    "    if unit in {\"mm\", \"millimeter\", \"millimetre\"}:\n",
    "\n",
    "        return float(value) * 1000.0\n",
    "\n",
    "    if unit in {\"m\", \"meter\", \"metre\"}:\n",
    "\n",
    "        return float(value) * 1_000_000.0\n",
    "\n",
    "    # Desconocida: devolvemos el valor tal cual, asumiendo µm (mejor avisar arriba si se desea)\n",
    "\n",
    "    return float(value)\n",
    "\n",
    "\n",
    "\n",
    "def extract_physical_sizes_from_ome_xml(ome_xml: str):\n",
    "\n",
    "\n",
    "    \"\"\"\n",
    "\n",
    "\n",
    "    Extrae (PhysicalSizeZ, PhysicalSizeY, PhysicalSizeX) en µm desde OME-XML.\n",
    "\n",
    "    Intenta varios espacios de nombres y usa unidades si están presentes.\n",
    "\n",
    "    Devuelve tupla (z_um, y_um, x_um) con None si no se encuentra.\n",
    "\n",
    "    \"\"\"\n",
    "\n",
    "    if not ome_xml:\n",
    "\n",
    "        return (None, None, None)\n",
    "\n",
    "\n",
    "\n",
    "    import xml.etree.ElementTree as _ET\n",
    "\n",
    "\n",
    "\n",
    "    namespaces = [\n",
    "\n",
    "        \"http://www.openmicroscopy.org/Schemas/OME/2016-06\",\n",
    "\n",
    "        \"http://www.openmicroscopy.org/Schemas/OME/2015-01\",\n",
    "\n",
    "        \"http://www.openmicroscopy.org/Schemas/OME/2013-06\",\n",
    "\n",
    "    ]\n",
    "\n",
    "\n",
    "\n",
    "    try:\n",
    "\n",
    "        root = _ET.fromstring(ome_xml)\n",
    "\n",
    "    except Exception:\n",
    "\n",
    "        return (None, None, None)\n",
    "\n",
    "\n",
    "\n",
    "    def _read_from_pixels(p):\n",
    "\n",
    "        z = p.attrib.get(\"PhysicalSizeZ\")\n",
    "\n",
    "        y = p.attrib.get(\"PhysicalSizeY\")\n",
    "\n",
    "        x = p.attrib.get(\"PhysicalSizeX\")\n",
    "\n",
    "        zu = p.attrib.get(\"PhysicalSizeZUnit\") or p.attrib.get(\"PhysicalSizeZUnitSymbol\")\n",
    "\n",
    "        yu = p.attrib.get(\"PhysicalSizeYUnit\") or p.attrib.get(\"PhysicalSizeYUnitSymbol\")\n",
    "\n",
    "        xu = p.attrib.get(\"PhysicalSizeXUnit\") or p.attrib.get(\"PhysicalSizeXUnitSymbol\")\n",
    "\n",
    "        z_um = _to_um(float(z), zu) if z is not None else None\n",
    "\n",
    "        y_um = _to_um(float(y), yu) if y is not None else None\n",
    "\n",
    "        x_um = _to_um(float(x), xu) if x is not None else None\n",
    "\n",
    "        return (z_um, y_um, x_um)\n",
    "\n",
    "\n",
    "\n",
    "    # 1) Namespaces conocidos\n",
    "\n",
    "    for ns in namespaces:\n",
    "\n",
    "        pixels = root.find(f\".//{{{ns}}}Pixels\")\n",
    "\n",
    "        if pixels is not None:\n",
    "\n",
    "            return _read_from_pixels(pixels)\n",
    "\n",
    "\n",
    "\n",
    "    # 2) Fallback sin namespace\n",
    "\n",
    "    pixels = root.find('.//Pixels')\n",
    "\n",
    "    if pixels is not None:\n",
    "\n",
    "        return _read_from_pixels(pixels)\n",
    "\n",
    "\n",
    "\n",
    "    return (None, None, None)\n",
    "\n",
    "\n",
    "\n",
    "def extract_sizes_from_ome_xml(ome_xml: str):\n",
    "\n",
    "\n",
    "    \"\"\"Extrae SizeZ, SizeC, SizeY, SizeX desde OME-XML si están presentes.\"\"\"\n",
    "\n",
    "    if not ome_xml:\n",
    "\n",
    "        return {}\n",
    "\n",
    "    import xml.etree.ElementTree as _ET\n",
    "\n",
    "    namespaces = [\n",
    "\n",
    "        \"http://www.openmicroscopy.org/Schemas/OME/2016-06\",\n",
    "\n",
    "        \"http://www.openmicroscopy.org/Schemas/OME/2015-01\",\n",
    "\n",
    "        \"http://www.openmicroscopy.org/Schemas/OME/2013-06\",\n",
    "\n",
    "    ]\n",
    "\n",
    "    try:\n",
    "\n",
    "        root = _ET.fromstring(ome_xml)\n",
    "\n",
    "    except Exception:\n",
    "\n",
    "        return {}\n",
    "\n",
    "    def _sizes_from_pixels(p):\n",
    "\n",
    "        out = {}\n",
    "\n",
    "        for k in (\"SizeZ\",\"SizeC\",\"SizeY\",\"SizeX\",\"SizeT\"):\n",
    "\n",
    "            v = p.attrib.get(k)\n",
    "\n",
    "            if v is not None:\n",
    "\n",
    "                try:\n",
    "\n",
    "                    out[k] = int(v)\n",
    "\n",
    "                except Exception:\n",
    "\n",
    "                    pass\n",
    "\n",
    "        # DimensionOrder si está\n",
    "\n",
    "        do = p.attrib.get(\"DimensionOrder\")\n",
    "\n",
    "        if do:\n",
    "\n",
    "            out[\"DimensionOrder\"] = do\n",
    "\n",
    "        return out\n",
    "\n",
    "    for ns in namespaces:\n",
    "\n",
    "        pixels = root.find(f\".//{{{ns}}}Pixels\")\n",
    "\n",
    "        if pixels is not None:\n",
    "\n",
    "            sizes = _sizes_from_pixels(pixels)\n",
    "\n",
    "            if sizes:\n",
    "\n",
    "                return sizes\n",
    "\n",
    "    pixels = root.find('.//Pixels')\n",
    "\n",
    "    if pixels is not None:\n",
    "\n",
    "        return _sizes_from_pixels(pixels)\n",
    "\n",
    "    return {}"
   ]
  },
  {
   "cell_type": "markdown",
   "id": "efb0a086",
   "metadata": {},
   "source": [
    "## Paso 2: Carga de Datos y Calibración Automática\n",
    "\n",
    "Utilizamos `tifffile` para abrir el archivo y leer tanto los datos como los metadatos OME-XML. A partir de esos metadatos extraemos las dimensiones físicas del vóxel (X, Y, Z) en micrómetros. Una vez leídos, calculamos los parámetros de calibración y procedemos a separar los canales."
   ]
  },
  {
   "cell_type": "code",
   "execution_count": null,
   "id": "c31d91d0",
   "metadata": {},
   "outputs": [],
   "source": [
    "import json\n",
    "\n",
    "\n",
    "# ... (código anterior de lectura de TIF y reordenación) se mantiene arriba\n",
    "\n",
    "\n",
    "# 1) OME-XML (preferido)\n",
    "Z_SPACING_UM, PIXEL_HEIGHT_UM, PIXEL_WIDTH_UM = extract_physical_sizes_from_ome_xml(OME_XML)\n",
    "calib_source = None\n",
    "if Z_SPACING_UM or PIXEL_HEIGHT_UM or PIXEL_WIDTH_UM:\n",
    "    calib_source = \"OME-XML\"\n",
    "\n",
    "\n",
    "# 1.3) Override JSON global de Streamlit (si existe) — preferido\n",
    "try:\n",
    "    if 'streamlit_calibration_path' in globals() and streamlit_calibration_path.exists():\n",
    "        with open(streamlit_calibration_path, 'r') as f:\n",
    "            ov_glob = json.load(f)\n",
    "        z = ov_glob.get('z')\n",
    "        y = ov_glob.get('y')\n",
    "        x = ov_glob.get('x')\n",
    "        if z is not None:\n",
    "            Z_SPACING_UM = float(z)\n",
    "        if y is not None:\n",
    "            PIXEL_HEIGHT_UM = float(y)\n",
    "        if x is not None:\n",
    "            PIXEL_WIDTH_UM = float(x)\n",
    "        calib_source = 'Streamlit-JSON'\n",
    "except Exception as e:\n",
    "    print(f\"Advertencia: No se pudo leer streamlit/calibration.json: {e}\")\n",
    "# 1.5) Override JSON por nombre de archivo (si existe) — compatibilidad\n",
    "try:\n",
    "    if 'calibration_overrides_path' in globals() and calibration_overrides_path.exists():\n",
    "        with open(calibration_overrides_path, 'r') as f:\n",
    "            overrides = json.load(f)\n",
    "        ov = overrides.get(base_filename) or overrides.get(image_path.name)\n",
    "        if ov:\n",
    "            z = ov.get('z')\n",
    "            y = ov.get('y')\n",
    "            x = ov.get('x')\n",
    "            if z is not None:\n",
    "                Z_SPACING_UM = float(z)\n",
    "            if y is not None:\n",
    "                PIXEL_HEIGHT_UM = float(y)\n",
    "            if x is not None:\n",
    "                PIXEL_WIDTH_UM = float(x)\n",
    "            calib_source = \"Override-JSON\" if (z or y or x) else calib_source\n",
    "except Exception as e:\n",
    "    print(f\"Advertencia: No se pudo leer calibration_overrides.json: {e}\")\n",
    "\n",
    "\n",
    "# 2) Fallback ImageJ metadata\n",
    "if calib_source is None and IJ_META:\n",
    "    try:\n",
    "        unit = IJ_META.get('unit')  # p.ej., 'micron', 'um'\n",
    "        spacing = IJ_META.get('spacing')  # distancia entre slices en 'unit'\n",
    "        z_um = _to_um(float(spacing), unit) if spacing is not None else None\n",
    "        if z_um is not None:\n",
    "            Z_SPACING_UM = Z_SPACING_UM or z_um\n",
    "            calib_source = \"ImageJ\"\n",
    "    except Exception:\n",
    "        pass\n",
    "\n",
    "\n",
    "# 3) Fallback a tags XResolution/YResolution (+ ResolutionUnit)\n",
    "if (PIXEL_WIDTH_UM is None or PIXEL_HEIGHT_UM is None) and XRES and RES_UNIT:\n",
    "    if RES_UNIT == 2:  # inch\n",
    "        PIXEL_WIDTH_UM = PIXEL_WIDTH_UM or (25400.0 / XRES)\n",
    "        if YRES:\n",
    "            PIXEL_HEIGHT_UM = PIXEL_HEIGHT_UM or (25400.0 / YRES)\n",
    "        calib_source = calib_source or \"TIFF-Resolution-Inch\"\n",
    "    elif RES_UNIT == 3:  # centimeter\n",
    "        PIXEL_WIDTH_UM = PIXEL_WIDTH_UM or (10000.0 / XRES)\n",
    "        if YRES:\n",
    "            PIXEL_HEIGHT_UM = PIXEL_HEIGHT_UM or (10000.0 / YRES)\n",
    "        calib_source = calib_source or \"TIFF-Resolution-Cm\"\n",
    "\n",
    "\n",
    "# Fallbacks finales si aún faltan\n",
    "if Z_SPACING_UM is None:\n",
    "    Z_SPACING_UM = 1.0\n",
    "if PIXEL_HEIGHT_UM is None:\n",
    "    PIXEL_HEIGHT_UM = 1.0\n",
    "if PIXEL_WIDTH_UM is None:\n",
    "    PIXEL_WIDTH_UM = 1.0\n",
    "calib_source = calib_source or \"Default-1um\""
   ]
  },
  {
   "cell_type": "code",
   "execution_count": 14,
   "id": "6f56b20a",
   "metadata": {},
   "outputs": [
    {
     "name": "stdout",
     "output_type": "stream",
     "text": [
      "Forma del arreglo (esperado 4D Z,C,Y,X): (11, 3, 1024, 1024)\n",
      "Sizes OME (si disponibles): {}\n"
     ]
    }
   ],
   "source": [
    "# Chequeo rápido de forma y ejes\n",
    "print(\"Forma del arreglo (esperado 4D Z,C,Y,X):\", image_stack.shape)\n",
    "\n",
    "sizes = extract_sizes_from_ome_xml(OME_XML) if 'OME_XML' in globals() else {}\n",
    "print(\"Sizes OME (si disponibles):\", sizes)\n",
    "\n",
    "if image_stack.ndim == 4 and image_stack.shape[1] not in (3, 4):\n",
    "    print(\"ADVERTENCIA: el eje 1 no parece ser el de canales (tamaño 3/4 típico). Revisa la reordenación de ejes.\")"
   ]
  },
  {
   "cell_type": "markdown",
   "id": "efac0632",
   "metadata": {},
   "source": [
    "## Paso 3: Pre-procesamiento con Umbral de Otsu\n",
    "Limpiamos el canal DAPI para eliminar ruido de fondo y guardamos el resultado."
   ]
  },
  {
   "cell_type": "code",
   "execution_count": 15,
   "id": "26a91ba0",
   "metadata": {},
   "outputs": [
    {
     "name": "stdout",
     "output_type": "stream",
     "text": [
      "Aplicando umbral de Otsu...\n",
      "Máscara de Otsu guardada en: /home/daniel/Proyectos/astrocitos-3d-analysis/data/processed/Inmuno 26-07-23.lif - CTL 1-2 a/01_otsu_mask.tif\n"
     ]
    }
   ],
   "source": [
    "print(\"Aplicando umbral de Otsu...\")\n",
    "otsu_threshold = threshold_otsu(dapi_channel)\n",
    "otsu_mask = dapi_channel > otsu_threshold\n",
    "dapi_channel_cleaned = np.where(otsu_mask, dapi_channel, 0)\n",
    "\n",
    "tifffile.imwrite(otsu_mask_path, otsu_mask.astype(np.uint8))\n",
    "print(f\"Máscara de Otsu guardada en: {otsu_mask_path}\")"
   ]
  },
  {
   "cell_type": "markdown",
   "id": "9440a400",
   "metadata": {},
   "source": [
    "### Visualización: Máscara de Otsu (Calibrada)"
   ]
  },
  {
   "cell_type": "code",
   "execution_count": 16,
   "id": "6984a9c9",
   "metadata": {},
   "outputs": [
    {
     "name": "stderr",
     "output_type": "stream",
     "text": [
      "/home/daniel/Proyectos/astrocitos-3d-analysis/venv/lib/python3.12/site-packages/npe2/manifest/_npe1_adapter.py:87: UserWarning: Error importing contributions for first-generation napari plugin 'bfio': partially initialized module 'bfio' has no attribute 'base_classes' (most likely due to a circular import)\n",
      "  self._load_contributions()\n"
     ]
    },
    {
     "data": {
      "text/plain": [
       "<Labels layer 'Máscara de Otsu' at 0x7620d4375100>"
      ]
     },
     "execution_count": 16,
     "metadata": {},
     "output_type": "execute_result"
    }
   ],
   "source": [
    "viewer_otsu = napari.Viewer()\n",
    "viewer_otsu.add_image(dapi_channel, name='DAPI Original', colormap='blue', scale=PHYSICAL_SCALE)\n",
    "viewer_otsu.add_image(microglia_channel, name='Microglía Original', colormap='red', scale=PHYSICAL_SCALE)\n",
    "viewer_otsu.add_image(gfap_channel, name='GFAP Original', colormap='green', scale=PHYSICAL_SCALE)\n",
    "viewer_otsu.add_labels(otsu_mask, name='Máscara de Otsu', scale=PHYSICAL_SCALE)"
   ]
  },
  {
   "cell_type": "markdown",
   "id": "d7b9f7e2",
   "metadata": {},
   "source": [
    "## Paso 4: Segmentación de Núcleos con Cellpose\n",
    "Ejecutamos Cellpose sobre el canal DAPI limpio y guardamos la máscara de etiquetas resultante."
   ]
  },
  {
   "cell_type": "code",
   "execution_count": 8,
   "id": "789257ee",
   "metadata": {},
   "outputs": [
    {
     "name": "stdout",
     "output_type": "stream",
     "text": [
      "Ejecuting segmentación con Cellpose...\n",
      "Máscara de Cellpose guardada en: /home/imagina/Proyectos/astrocitos-3d-analysis/data/processed/Inmuno 26-07-23.lif - CTL 1-2 a/02_cellpose_mask.tif\n",
      "\n",
      "Número total de núcleos encontrados por Cellpose: 362\n"
     ]
    }
   ],
   "source": [
    "model = models.CellposeModel(gpu=True)\n",
    "print(\"Ejecuting segmentación con Cellpose...\")\n",
    "cellpose_masks, _, _ = model.eval(\n",
    "    dapi_channel_cleaned,\n",
    "    diameter=NUCLEUS_DIAMETER,\n",
    "    z_axis=0,\n",
    "    do_3D=True\n",
    ")\n",
    "\n",
    "tifffile.imwrite(cellpose_mask_path, cellpose_masks.astype(np.uint16))\n",
    "print(f\"Máscara de Cellpose guardada en: {cellpose_mask_path}\")\n",
    "\n",
    "if cellpose_masks.max() > 0:\n",
    "    props = regionprops_table(cellpose_masks, properties=('label',))\n",
    "    print(f\"\\nNúmero total de núcleos encontrados por Cellpose: {len(props['label'])}\")\n",
    "else:\n",
    "    print(\"\\nNo se encontraron objetos en la segmentación inicial.\")"
   ]
  },
  {
   "cell_type": "markdown",
   "id": "45bc0417",
   "metadata": {},
   "source": [
    "### Visualización: Resultado de Cellpose (Calibrada)"
   ]
  },
  {
   "cell_type": "code",
   "execution_count": 29,
   "id": "13c06d9b",
   "metadata": {},
   "outputs": [
    {
     "data": {
      "text/plain": [
       "<Labels layer 'Resultado Cellpose (Crudo)' at 0x7b849d466c90>"
      ]
     },
     "execution_count": 29,
     "metadata": {},
     "output_type": "execute_result"
    }
   ],
   "source": [
    "viewer_cellpose = napari.Viewer()\n",
    "viewer_cellpose.add_image(dapi_channel, name='DAPI Original', colormap='blue', scale=PHYSICAL_SCALE)\n",
    "viewer_cellpose.add_labels(cellpose_masks, name='Resultado Cellpose (Crudo)', scale=PHYSICAL_SCALE)"
   ]
  },
  {
   "cell_type": "markdown",
   "id": "adde99ae",
   "metadata": {},
   "source": [
    "## Paso 5: Filtrado Combinado por Co-localización GFAP y Exclusión por Microglía\n",
    "\n",
    "Este es el paso de filtrado principal, ahora con la lógica actualizada. Para cada núcleo, expandimos un anillo a su alrededor, píxel por píxel, y comprobamos qué señal (GFAP o Microglía) supera primero su umbral.\n",
    "\n",
    "- **Éxito (Candidato a Astrocito)**: Si la señal GFAP es la primera en ser detectada.\n",
    "- **Fallo (Núcleo Excluido)**: Si la señal de Microglía es detectada primero o al mismo tiempo."
   ]
  },
  {
   "cell_type": "code",
   "execution_count": 27,
   "id": "e212e4c7",
   "metadata": {},
   "outputs": [
    {
     "name": "stdout",
     "output_type": "stream",
     "text": [
      "Iniciando filtrado combinado por señal GFAP y exclusión por Microglía (en paralelo)...\n",
      "Máscara filtrada guardada en: /home/imagina/Proyectos/astrocitos-3d-analysis/data/processed/Inmuno 26-07-23.lif - CTL 1-2 a/03_gfap_microglia_filtered_mask.tif\n",
      "\n",
      "Proceso completado. Quedan 54 candidatos a astrocitos después del filtro combinado.\n"
     ]
    }
   ],
   "source": [
    "import numpy as np\n",
    "import tifffile\n",
    "from skimage.measure import regionprops\n",
    "from skimage.morphology import binary_dilation\n",
    "import concurrent.futures # <-- Importamos la librería necesaria\n",
    "\n",
    "# --- Constantes (sin cambios) ---\n",
    "MAX_DILATION_ITERATIONS = 10\n",
    "GFAP_INTENSITY_THRESHOLD = 40\n",
    "MICROGLIA_INTENSITY_THRESHOLD = 200\n",
    "\n",
    "# --- 1. Lógica de procesamiento encapsulada en una función ---\n",
    "# Esta función contiene la lógica para procesar un ÚNICO núcleo.\n",
    "# Devolverá el 'label' del núcleo si es un candidato, o None si es descartado.\n",
    "def process_nucleus(nucleus, cellpose_masks, gfap_channel, microglia_channel):\n",
    "    \"\"\"\n",
    "    Analiza un único núcleo para determinar si es un candidato a astrocito.\n",
    "    \"\"\"\n",
    "    nucleus_mask = (cellpose_masks == nucleus.label)\n",
    "    current_mask = nucleus_mask\n",
    "    \n",
    "    for _ in range(MAX_DILATION_ITERATIONS):\n",
    "        dilated_mask = binary_dilation(current_mask)\n",
    "        # El 'shell' es el borde de la dilatación, para no re-analizar píxeles\n",
    "        shell_mask = dilated_mask & ~current_mask\n",
    "        \n",
    "        # Si la dilatación no crece más, paramos\n",
    "        if not np.any(shell_mask):\n",
    "            break\n",
    "            \n",
    "        shell_gfap_intensity = gfap_channel[shell_mask].mean()\n",
    "        shell_microglia_intensity = microglia_channel[shell_mask].mean()\n",
    "        \n",
    "        # Criterio de exclusión: si encontramos señal de microglía, descartamos el núcleo\n",
    "        if shell_microglia_intensity > MICROGLIA_INTENSITY_THRESHOLD:\n",
    "            return None # Retornamos None para indicar que no es un candidato\n",
    "            \n",
    "        # Criterio de inclusión: si encontramos suficiente señal de GFAP, lo aceptamos\n",
    "        if shell_gfap_intensity > GFAP_INTENSITY_THRESHOLD:\n",
    "            return nucleus.label # Retornamos el label del núcleo candidato\n",
    "        \n",
    "        # Actualizamos la máscara para la siguiente iteración de dilatación\n",
    "        current_mask = dilated_mask\n",
    "    \n",
    "    # Si el bucle termina sin cumplir el criterio de GFAP, no es un candidato\n",
    "    return None\n",
    "\n",
    "# --- Bloque principal de ejecución ---\n",
    "\n",
    "# Asumo que las variables cellpose_masks, gfap_channel, y microglia_channel ya están cargadas\n",
    "# Ejemplo de carga (descomentar y adaptar si es necesario):\n",
    "# cellpose_masks = tifffile.imread('path/to/your/cellpose_masks.tif')\n",
    "# gfap_channel = tifffile.imread('path/to/your/gfap_channel.tif')\n",
    "# microglia_channel = tifffile.imread('path/to/your/microglia_channel.tif')\n",
    "# gfap_filtered_mask_path = 'path/to/your/output_mask.tif'\n",
    "\n",
    "\n",
    "print(\"Iniciando filtrado combinado por señal GFAP y exclusión por Microglía (en paralelo)...\")\n",
    "nuclei_props = regionprops(cellpose_masks)\n",
    "\n",
    "# Lista para guardar los resultados finales\n",
    "astrocyte_labels_candidate = []\n",
    "\n",
    "# --- 2. Usamos ProcessPoolExecutor para paralelizar ---\n",
    "# 'with' se asegura de que el pool de procesos se cierre correctamente.\n",
    "# Por defecto, usará tantos procesos como núcleos tenga tu CPU.\n",
    "with concurrent.futures.ProcessPoolExecutor() as executor:\n",
    "    \n",
    "    # --- 3. Mapeamos la función a los datos ---\n",
    "    # Creamos un \"futuro\" para cada tarea. Pasamos los argumentos necesarios a process_nucleus.\n",
    "    # Como los arrays (masks, channels) son los mismos para todas las tareas, los pasamos en cada llamada.\n",
    "    future_to_nucleus = {\n",
    "        executor.submit(process_nucleus, nucleus, cellpose_masks, gfap_channel, microglia_channel): nucleus\n",
    "        for nucleus in nuclei_props\n",
    "    }\n",
    "    \n",
    "    # --- 4. Recolectamos los resultados a medida que se completan ---\n",
    "    for future in concurrent.futures.as_completed(future_to_nucleus):\n",
    "        result = future.result()\n",
    "        # Si el resultado no es None, es una etiqueta válida\n",
    "        if result is not None:\n",
    "            astrocyte_labels_candidate.append(result)\n",
    "\n",
    "# El resto del código es igual\n",
    "gfap_filtered_mask = np.where(np.isin(cellpose_masks, astrocyte_labels_candidate), cellpose_masks, 0)\n",
    "\n",
    "tifffile.imwrite(gfap_filtered_mask_path, gfap_filtered_mask.astype(np.uint16))\n",
    "print(f\"Máscara filtrada guardada en: {gfap_filtered_mask_path}\")\n",
    "print(f\"\\nProceso completado. Quedan {len(astrocyte_labels_candidate)} candidatos a astrocitos después del filtro combinado.\")"
   ]
  },
  {
   "cell_type": "markdown",
   "id": "d3102dd0",
   "metadata": {},
   "source": [
    "### Visualización: Candidatos a Astrocitos (Calibrada)"
   ]
  },
  {
   "cell_type": "code",
   "execution_count": 28,
   "id": "246faacc",
   "metadata": {},
   "outputs": [
    {
     "data": {
      "text/plain": [
       "<Labels layer 'Candidatos a Astrocitos' at 0x7b84a0e318e0>"
      ]
     },
     "execution_count": 28,
     "metadata": {},
     "output_type": "execute_result"
    }
   ],
   "source": [
    "viewer_gfap = napari.Viewer()\n",
    "viewer_gfap.add_image(gfap_channel, name='GFAP', colormap='green', scale=PHYSICAL_SCALE)\n",
    "viewer_gfap.add_image(microglia_channel, name='Microglia', colormap='magenta', scale=PHYSICAL_SCALE)\n",
    "viewer_gfap.add_labels(gfap_filtered_mask, name='Candidatos a Astrocitos', scale=PHYSICAL_SCALE)"
   ]
  },
  {
   "cell_type": "markdown",
   "id": "18c940b2",
   "metadata": {},
   "source": [
    "## Paso 6: Post-procesamiento por Tamaño Físico\n",
    "Aplicamos el filtro final de limpieza, eliminando objetos con un volumen físico (µm³) menor al umbral definido."
   ]
  },
  {
   "cell_type": "code",
   "execution_count": 30,
   "id": "00971be0",
   "metadata": {},
   "outputs": [
    {
     "name": "stdout",
     "output_type": "stream",
     "text": [
      "Aplicando filtro final de tamaño...\n",
      "Máscara final guardada en: /home/daniel/Proyectos/astrocitos-3d-analysis/data/processed/Inmuno 26-07-23.lif - CTL 1-2 a/04_final_astrocytes_mask.tif\n",
      "Número final de astrocitos identificados: 169\n"
     ]
    }
   ],
   "source": [
    "print(\"Aplicando filtro final de tamaño...\")\n",
    "final_props = regionprops(gfap_filtered_mask)\n",
    "final_astrocyte_labels = [prop.label for prop in final_props if prop.area >= MIN_VOLUME_VOXELS]\n",
    "\n",
    "final_mask = np.where(np.isin(gfap_filtered_mask, final_astrocyte_labels), gfap_filtered_mask, 0)\n",
    "\n",
    "tifffile.imwrite(final_mask_path, final_mask.astype(np.uint16))\n",
    "print(f\"Máscara final guardada en: {final_mask_path}\")\n",
    "print(f\"Número final de astrocitos identificados: {len(final_astrocyte_labels)}\")"
   ]
  },
  {
   "cell_type": "markdown",
   "id": "446d7c50",
   "metadata": {},
   "source": [
    "## Paso 7: Visualización Final Integrada\n",
    "Visualizamos la imagen original multi-canal junto a todas las máscaras generadas en el pipeline, permitiendo una revisión completa del proceso. Cada máscara se puede activar o desactivar para comparar los resultados de cada paso."
   ]
  },
  {
   "cell_type": "code",
   "execution_count": 12,
   "id": "ef6b1526",
   "metadata": {},
   "outputs": [
    {
     "name": "stdout",
     "output_type": "stream",
     "text": [
      "Abriendo Napari con todas las capas del pipeline...\n"
     ]
    },
    {
     "data": {
      "text/plain": [
       "<Labels layer '04 - Astrocitos Finales' at 0x7b834c21a4e0>"
      ]
     },
     "execution_count": 12,
     "metadata": {},
     "output_type": "execute_result"
    }
   ],
   "source": [
    "print(\"Abriendo Napari con todas las capas del pipeline...\")\n",
    "\n",
    "# Cargamos todas las máscaras guardadas para asegurar que tenemos las versiones correctas\n",
    "otsu_mask_viz = tifffile.imread(otsu_mask_path)\n",
    "cellpose_mask_viz = tifffile.imread(cellpose_mask_path)\n",
    "gfap_filtered_mask_viz = tifffile.imread(gfap_filtered_mask_path)\n",
    "final_mask_viz = tifffile.imread(final_mask_path)\n",
    "\n",
    "viewer_final = napari.Viewer(title=\"Pipeline de Segmentación de Astrocitos\")\n",
    "\n",
    "# Capas de las señales originales\n",
    "viewer_final.add_image(\n",
    "    image_stack,\n",
    "    channel_axis=1,\n",
    "    name=[\"DAPI\", \"GFAP\", \"Microglia\"],\n",
    "    colormap=[\"blue\", \"green\", \"magenta\"],\n",
    "    scale=PHYSICAL_SCALE\n",
    ")\n",
    "\n",
    "# Capas de las máscaras generadas\n",
    "viewer_final.add_labels(otsu_mask_viz, name='01 - Máscara Otsu', scale=PHYSICAL_SCALE, visible=False)\n",
    "viewer_final.add_labels(cellpose_mask_viz, name='02 - Máscara Cellpose', scale=PHYSICAL_SCALE, visible=False)\n",
    "viewer_final.add_labels(gfap_filtered_mask_viz, name='03 - Filtro GFAP y Microglia', scale=PHYSICAL_SCALE, visible=False)\n",
    "viewer_final.add_labels(final_mask_viz, name='04 - Astrocitos Finales', scale=PHYSICAL_SCALE, visible=True)"
   ]
  }
 ],
 "metadata": {
  "kernelspec": {
   "display_name": "venv",
   "language": "python",
   "name": "python3"
  },
  "language_info": {
   "codemirror_mode": {
    "name": "ipython",
    "version": 3
   },
   "file_extension": ".py",
   "mimetype": "text/x-python",
   "name": "python",
   "nbconvert_exporter": "python",
   "pygments_lexer": "ipython3",
   "version": "3.12.3"
  }
 },
 "nbformat": 4,
 "nbformat_minor": 5
}
