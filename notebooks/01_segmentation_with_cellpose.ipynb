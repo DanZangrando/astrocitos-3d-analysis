{
 "cells": [
  {
   "cell_type": "markdown",
   "id": "1471d4c7",
   "metadata": {},
   "source": [
    "# Cuaderno de Segmentación y Análisis Calibrado de Astrocitos\n",
    "\n",
    "**Objetivo:** Este notebook detalla un flujo de trabajo para identificar núcleos de astrocitos, guardando y visualizando cada paso de filtrado. El análisis y la visualización están **calibrados con las dimensiones físicas del vóxel** para asegurar la precisión y reproducibilidad científica.\n",
    "\n",
    "**Flujo de Trabajo:**\n",
    "1.  **Configuración**: Definición de rutas y parámetros de calibración física y procesamiento.\n",
    "2.  **Carga de Datos**: Carga de la imagen original.\n",
    "3.  **Pre-procesamiento (Otsu)**: Limpieza del canal DAPI y guardado de la máscara binaria.\n",
    "4.  **Segmentación (Cellpose)**: Segmentación de todos los núcleos y guardado de la máscara de Cellpose.\n",
    "5.  **Filtrado (Co-localización GFAP)**: Selección de núcleos por señal GFAP y guardado de la máscara de candidatos.\n",
    "6.  **Post-procesamiento (Tamaño Físico)**: Limpieza final por volumen físico (µm³) y guardado de la máscara final."
   ]
  },
  {
   "cell_type": "markdown",
   "id": "0dda1cf9",
   "metadata": {},
   "source": [
    "## Paso 0: Activar el Backend Gráfico\n",
    "\n",
    "**Importante:** Ejecuta esta celda una sola vez por sesión. El comando mágico `%gui qt` prepara el notebook para mostrar ventanas interactivas como las de Napari."
   ]
  },
  {
   "cell_type": "code",
   "execution_count": 1,
   "id": "c69ea4a5",
   "metadata": {},
   "outputs": [],
   "source": [
    "%gui qt"
   ]
  },
  {
   "cell_type": "markdown",
   "id": "2ffefd24",
   "metadata": {},
   "source": [
    "## Paso 1: Configuración de Rutas y Parámetros\n",
    "\n",
    "Esta celda centraliza todas las variables que controlan el flujo de trabajo. Definir los parámetros aquí permite ajustar fácilmente el análisis para diferentes imágenes sin modificar el código en las celdas posteriores.\n",
    "\n",
    "### Fundamento del Filtrado y Reproducibilidad Científica 🔬\n",
    "\n",
    "La estrategia de este cuaderno se basa en un **filtrado secuencial**, un método robusto y común en el análisis de imágenes biológicas. En lugar de depender de un único algoritmo \"mágico\", aplicamos una serie de filtros lógicos, cada uno diseñado para eliminar un tipo específico de artefacto o señal no deseada.\n",
    "\n",
    "Este enfoque mejora la **reproducibilidad científica** por varias razones:\n",
    "1.  **Transparencia**: Cada paso del filtrado (Otsu, Cellpose, Co-localización, Tamaño) es explícito y sus parámetros están claramente definidos.\n",
    "2.  **Objetividad**: Al definir umbrales y parámetros numéricos, reducimos la subjetividad inherente a la selección manual.\n",
    "3.  **Adaptabilidad**: Si se utiliza un nuevo set de imágenes, solo es necesario reajustar los parámetros en esta celda para adaptar el mismo flujo de trabajo lógico, manteniendo la consistencia del método.\n",
    "4.  **Calibración**: El uso de las dimensiones físicas del vóxel permite que los umbrales se definan en unidades reales (µm³), haciendo que los resultados sean comparables entre diferentes microscopios o experimentos.\n",
    "\n",
    "---\n",
    "\n",
    "### Variables de Rutas de Archivos\n",
    "\n",
    "* `base_filename` y `subfolder`: Permiten seleccionar fácilmente la imagen a procesar. El script construye las rutas de entrada y salida a partir de estos nombres, organizando los resultados en un directorio específico dentro de `/data/processed` que coincide con el nombre del archivo original.\n",
    "\n",
    "---\n",
    "\n",
    "### Variables de Calibración Física\n",
    "\n",
    "* **`PIXEL_WIDTH_UM`, `PIXEL_HEIGHT_UM`, `Z_SPACING_UM`**:\n",
    "    * **Uso**: En todo el cuaderno para calibrar las mediciones y visualizaciones.\n",
    "    * **Explicación**: Definen las dimensiones físicas (en micrómetros) de un solo vóxel. Estos valores se extraen de los metadatos del archivo `.lif` original y son cruciales para convertir las mediciones de \"conteo de vóxeles\" en unidades físicas reales. La variable `PHYSICAL_SCALE` se pasa a Napari para asegurar que la visualización 3D tenga las proporciones correctas.\n",
    "\n",
    "---\n",
    "\n",
    "### Variables de Parámetros de Procesamiento\n",
    "\n",
    "* **`NUCLEUS_DIAMETER`**:\n",
    "    * **Uso**: En la **Celda de Segmentación con Cellpose**.\n",
    "    * **Explicación**: Es el parámetro más importante para Cellpose. Le informa al modelo sobre el tamaño esperado (en píxeles) de los objetos que debe buscar. Un valor correcto mejora drásticamente la precisión de la segmentación. Se debe estimar midiendo el diámetro promedio de varios núcleos en la imagen original usando Napari.\n",
    "\n",
    "* **`DILATION_ITERATIONS`**:\n",
    "    * **Uso**: En la **Celda de Filtrado por Co-localización GFAP**.\n",
    "    * **Explicación**: Controla el grosor del \"anillo\" que se crea alrededor de cada núcleo para medir la señal GFAP. Cada \"iteración\" expande la máscara del núcleo en un píxel en todas las direcciones. Un valor más alto crea un anillo más grueso y ligeramente más alejado.\n",
    "\n",
    "* **`GFAP_INTENSITY_THRESHOLD`**:\n",
    "    * **Uso**: En la **Celda de Filtrado por Co-localización GFAP**.\n",
    "    * **Explicación**: Es el umbral de decisión para clasificar un núcleo como astrocito. El script calcula la intensidad promedio de la señal GFAP dentro del anillo peri-nuclear; si este promedio es mayor que el `GFAP_INTENSITY_THRESHOLD`, el núcleo es aceptado.\n",
    "\n",
    "* **`MIN_VOLUME_UM3`**:\n",
    "    * **Uso**: En la **Celda de Post-procesamiento por Tamaño**.\n",
    "    * **Explicación**: Es el parámetro para el filtro de limpieza final, **definido en unidades físicas (micrómetros cúbicos, µm³)**. El script lo convierte automáticamente a un umbral en vóxeles (`MIN_VOLUME_VOXELS`) usando las dimensiones de calibración. Esto hace que el filtrado sea robusto y reproducible, independientemente de la resolución de la imagen."
   ]
  },
  {
   "cell_type": "code",
   "execution_count": 2,
   "id": "9dd8f01c",
   "metadata": {},
   "outputs": [
    {
     "name": "stdout",
     "output_type": "stream",
     "text": [
      "Calibración completa. Umbral de 75 µm³ equivale a 519 vóxeles.\n"
     ]
    }
   ],
   "source": [
    "from pathlib import Path\n",
    "\n",
    "# --- Rutas de Archivos ---\n",
    "project_root = Path.cwd().parent\n",
    "base_filename = \"Inmuno 26-07-23.lif - CTL 1-2 a\"\n",
    "subfolder = \"CTL/CTL 1-2\"\n",
    "image_path = project_root / f\"data/raw/{subfolder}/{base_filename}.tif\"\n",
    "\n",
    "# --- Rutas de Salida ---\n",
    "output_dir = project_root / \"data/processed\" / base_filename\n",
    "output_dir.mkdir(parents=True, exist_ok=True)\n",
    "otsu_mask_path = output_dir / \"01_otsu_mask.tif\"\n",
    "cellpose_mask_path = output_dir / \"02_cellpose_mask.tif\"\n",
    "gfap_filtered_mask_path = output_dir / \"03_gfap_filtered_mask.tif\"\n",
    "final_mask_path = output_dir / \"04_final_astrocytes_mask.tif\"\n",
    "\n",
    "# --- PARÁMETROS DE CALIBRACIÓN FÍSICA (µm)---\n",
    "PIXEL_WIDTH_UM = 0.3788\n",
    "PIXEL_HEIGHT_UM = 0.3788\n",
    "Z_SPACING_UM = 1.0071\n",
    "VOXEL_VOLUME_UM3 = PIXEL_WIDTH_UM * PIXEL_HEIGHT_UM * Z_SPACING_UM\n",
    "# Escala para Napari (debe coincidir con el orden de ejes Z, Y, X)\n",
    "PHYSICAL_SCALE = (Z_SPACING_UM, PIXEL_HEIGHT_UM, PIXEL_WIDTH_UM)\n",
    "\n",
    "# --- Parámetros de Procesamiento ---\n",
    "NUCLEUS_DIAMETER = 30\n",
    "DILATION_ITERATIONS = 40\n",
    "GFAP_INTENSITY_THRESHOLD = 300\n",
    "MIN_VOLUME_UM3 = 75 # Umbral de volumen en micrómetros cúbicos\n",
    "\n",
    "# Convertimos el umbral físico a un umbral en vóxeles para el script\n",
    "MIN_VOLUME_VOXELS = int(MIN_VOLUME_UM3 / VOXEL_VOLUME_UM3)\n",
    "print(f\"Calibración completa. Umbral de {MIN_VOLUME_UM3} µm³ equivale a {MIN_VOLUME_VOXELS} vóxeles.\")"
   ]
  },
  {
   "cell_type": "markdown",
   "id": "efb0a086",
   "metadata": {},
   "source": [
    "## Paso 2: Carga de Datos e Importaciones"
   ]
  },
  {
   "cell_type": "code",
   "execution_count": 3,
   "id": "c31d91d0",
   "metadata": {},
   "outputs": [
    {
     "name": "stdout",
     "output_type": "stream",
     "text": [
      "\n",
      "\n",
      "Welcome to CellposeSAM, cellpose v\n",
      "cellpose version: \t4.0.6 \n",
      "platform:       \tlinux \n",
      "python version: \t3.12.3 \n",
      "torch version:  \t2.8.0+cu128! The neural network component of\n",
      "CPSAM is much larger than in previous versions and CPU excution is slow. \n",
      "We encourage users to use GPU/MPS if available. \n",
      "\n",
      "\n",
      "Cargando imagen: Inmuno 26-07-23.lif - CTL 1-2 a.tif...\n",
      "Canales cargados.\n"
     ]
    }
   ],
   "source": [
    "import tifffile\n",
    "import numpy as np\n",
    "import pandas as pd\n",
    "from cellpose import models\n",
    "from skimage.measure import regionprops\n",
    "from skimage.filters import threshold_otsu\n",
    "from scipy.ndimage import binary_dilation\n",
    "import napari\n",
    "\n",
    "print(f\"Cargando imagen: {image_path.name}...\")\n",
    "image_stack = tifffile.imread(image_path)\n",
    "dapi_channel = image_stack[:, 0, :, :]\n",
    "gfap_channel = image_stack[:, 1, :, :]\n",
    "print(\"Canales cargados.\")"
   ]
  },
  {
   "cell_type": "markdown",
   "id": "e1f5ed28",
   "metadata": {},
   "source": [
    "## Paso 3: Pre-procesamiento con Umbral de Otsu\n",
    "Limpiamos el canal DAPI para eliminar ruido de fondo y guardamos el resultado."
   ]
  },
  {
   "cell_type": "code",
   "execution_count": 4,
   "id": "02af45e2",
   "metadata": {},
   "outputs": [
    {
     "name": "stdout",
     "output_type": "stream",
     "text": [
      "Aplicando umbral de Otsu...\n",
      "Máscara de Otsu guardada en: /home/imagina/Proyectos/astrocitos-3d-analysis/data/processed/Inmuno 26-07-23.lif - CTL 1-2 a/01_otsu_mask.tif\n"
     ]
    }
   ],
   "source": [
    "print(\"Aplicando umbral de Otsu...\")\n",
    "otsu_threshold = threshold_otsu(dapi_channel)\n",
    "otsu_mask = dapi_channel > otsu_threshold\n",
    "dapi_channel_cleaned = np.where(otsu_mask, dapi_channel, 0)\n",
    "\n",
    "tifffile.imwrite(otsu_mask_path, otsu_mask.astype(np.uint8))\n",
    "print(f\"Máscara de Otsu guardada en: {otsu_mask_path}\")"
   ]
  },
  {
   "cell_type": "markdown",
   "id": "a2417aab",
   "metadata": {},
   "source": [
    "### Visualización: Máscara de Otsu (Calibrada)"
   ]
  },
  {
   "cell_type": "code",
   "execution_count": 5,
   "id": "26a91ba0",
   "metadata": {},
   "outputs": [
    {
     "name": "stderr",
     "output_type": "stream",
     "text": [
      "26-Aug-25 11:21:37 - bfio.backends - WARNING  - Java backend is not available. This could be due to a missing dependency (jpype).\n",
      "/home/imagina/Proyectos/astrocitos-3d-analysis/.venv/lib/python3.12/site-packages/npe2/manifest/_npe1_adapter.py:87: UserWarning: Error importing contributions for first-generation napari plugin 'bfio': cannot import name 'cbuffer_sizes' from 'numcodecs.blosc' (/home/imagina/Proyectos/astrocitos-3d-analysis/.venv/lib/python3.12/site-packages/numcodecs/blosc.cpython-312-x86_64-linux-gnu.so)\n",
      "  self._load_contributions()\n"
     ]
    },
    {
     "data": {
      "text/plain": [
       "<Labels layer 'Máscara de Otsu' at 0x75c7f83e2030>"
      ]
     },
     "execution_count": 5,
     "metadata": {},
     "output_type": "execute_result"
    }
   ],
   "source": [
    "viewer_otsu = napari.Viewer()\n",
    "viewer_otsu.add_image(dapi_channel, name='DAPI Original', colormap='blue', scale=PHYSICAL_SCALE)\n",
    "viewer_otsu.add_labels(otsu_mask, name='Máscara de Otsu', scale=PHYSICAL_SCALE)"
   ]
  },
  {
   "cell_type": "markdown",
   "id": "d7b9f7e2",
   "metadata": {},
   "source": [
    "## Paso 4: Segmentación de Núcleos con Cellpose\n",
    "Ejecutamos Cellpose sobre el canal DAPI limpio y guardamos la máscara de etiquetas resultante."
   ]
  },
  {
   "cell_type": "code",
   "execution_count": 6,
   "id": "789257ee",
   "metadata": {},
   "outputs": [
    {
     "name": "stderr",
     "output_type": "stream",
     "text": [
      "100%|██████████| 1.15G/1.15G [01:57<00:00, 10.5MB/s]\n"
     ]
    },
    {
     "name": "stdout",
     "output_type": "stream",
     "text": [
      "Ejecutando segmentación con Cellpose...\n",
      "Máscara de Cellpose guardada en: /home/imagina/Proyectos/astrocitos-3d-analysis/data/processed/Inmuno 26-07-23.lif - CTL 1-2 a/02_cellpose_mask.tif\n",
      "\n",
      "--- Resultados de la Segmentación Inicial ---\n",
      "Número total de núcleos encontrados: 362\n"
     ]
    },
    {
     "data": {
      "text/html": [
       "<div>\n",
       "<style scoped>\n",
       "    .dataframe tbody tr th:only-of-type {\n",
       "        vertical-align: middle;\n",
       "    }\n",
       "\n",
       "    .dataframe tbody tr th {\n",
       "        vertical-align: top;\n",
       "    }\n",
       "\n",
       "    .dataframe thead th {\n",
       "        text-align: right;\n",
       "    }\n",
       "</style>\n",
       "<table border=\"1\" class=\"dataframe\">\n",
       "  <thead>\n",
       "    <tr style=\"text-align: right;\">\n",
       "      <th></th>\n",
       "      <th>volume_voxels</th>\n",
       "      <th>intensity_mean</th>\n",
       "    </tr>\n",
       "  </thead>\n",
       "  <tbody>\n",
       "    <tr>\n",
       "      <th>count</th>\n",
       "      <td>362.00</td>\n",
       "      <td>362.00</td>\n",
       "    </tr>\n",
       "    <tr>\n",
       "      <th>mean</th>\n",
       "      <td>1014.18</td>\n",
       "      <td>145.59</td>\n",
       "    </tr>\n",
       "    <tr>\n",
       "      <th>std</th>\n",
       "      <td>728.21</td>\n",
       "      <td>27.48</td>\n",
       "    </tr>\n",
       "    <tr>\n",
       "      <th>min</th>\n",
       "      <td>15.00</td>\n",
       "      <td>64.35</td>\n",
       "    </tr>\n",
       "    <tr>\n",
       "      <th>25%</th>\n",
       "      <td>341.00</td>\n",
       "      <td>126.36</td>\n",
       "    </tr>\n",
       "    <tr>\n",
       "      <th>50%</th>\n",
       "      <td>994.00</td>\n",
       "      <td>146.09</td>\n",
       "    </tr>\n",
       "    <tr>\n",
       "      <th>75%</th>\n",
       "      <td>1579.00</td>\n",
       "      <td>166.55</td>\n",
       "    </tr>\n",
       "    <tr>\n",
       "      <th>max</th>\n",
       "      <td>3414.00</td>\n",
       "      <td>208.60</td>\n",
       "    </tr>\n",
       "  </tbody>\n",
       "</table>\n",
       "</div>"
      ],
      "text/plain": [
       "       volume_voxels  intensity_mean\n",
       "count         362.00          362.00\n",
       "mean         1014.18          145.59\n",
       "std           728.21           27.48\n",
       "min            15.00           64.35\n",
       "25%           341.00          126.36\n",
       "50%           994.00          146.09\n",
       "75%          1579.00          166.55\n",
       "max          3414.00          208.60"
      ]
     },
     "metadata": {},
     "output_type": "display_data"
    }
   ],
   "source": [
    "# --- Importaciones adicionales para esta celda ---\n",
    "from skimage.measure import regionprops_table\n",
    "import pandas as pd\n",
    "\n",
    "model = models.CellposeModel(gpu=True)\n",
    "print(\"Ejecutando segmentación con Cellpose...\")\n",
    "cellpose_masks, _, _ = model.eval(\n",
    "    dapi_channel_cleaned, \n",
    "    diameter=NUCLEUS_DIAMETER, \n",
    "    z_axis=0, \n",
    "    do_3D=True\n",
    ")\n",
    "\n",
    "# Guardamos la máscara de Cellpose\n",
    "tifffile.imwrite(cellpose_mask_path, cellpose_masks.astype(np.uint16))\n",
    "print(f\"Máscara de Cellpose guardada en: {cellpose_mask_path}\")\n",
    "\n",
    "# --- ANÁLISIS CUANTITATIVO AÑADIDO ---\n",
    "if cellpose_masks.max() > 0:\n",
    "    # Calculamos propiedades: volumen (area en 3D) e intensidad media de DAPI\n",
    "    props = regionprops_table(\n",
    "        cellpose_masks,\n",
    "        intensity_image=dapi_channel_cleaned,\n",
    "        properties=('label', 'area', 'intensity_mean')\n",
    "    )\n",
    "    stats_df = pd.DataFrame(props).rename(columns={'area': 'volume_voxels'})\n",
    "    \n",
    "    print(\"\\n--- Resultados de la Segmentación Inicial ---\")\n",
    "    print(f\"Número total de núcleos encontrados: {len(stats_df)}\")\n",
    "    \n",
    "    # Mostramos un resumen estadístico prolijo\n",
    "    display(stats_df[['volume_voxels', 'intensity_mean']].describe().round(2))\n",
    "else:\n",
    "    print(\"\\nNo se encontraron objetos en la segmentación inicial.\")"
   ]
  },
  {
   "cell_type": "markdown",
   "id": "45bc0417",
   "metadata": {},
   "source": [
    "### Visualización: Resultado de Cellpose (Calibrada)"
   ]
  },
  {
   "cell_type": "code",
   "execution_count": 7,
   "id": "13c06d9b",
   "metadata": {},
   "outputs": [
    {
     "data": {
      "text/plain": [
       "<Labels layer 'Resultado Cellpose (Crudo)' at 0x75c7b8308cb0>"
      ]
     },
     "execution_count": 7,
     "metadata": {},
     "output_type": "execute_result"
    },
    {
     "name": "stderr",
     "output_type": "stream",
     "text": [
      "/home/imagina/Proyectos/astrocitos-3d-analysis/.venv/lib/python3.12/site-packages/napari/layers/labels/labels.py:908: UserWarning: Contours are not displayed during 3D rendering\n",
      "  warnings.warn(\n",
      "/home/imagina/Proyectos/astrocitos-3d-analysis/.venv/lib/python3.12/site-packages/napari/layers/labels/labels.py:908: UserWarning: Contours are not displayed during 3D rendering\n",
      "  warnings.warn(\n"
     ]
    }
   ],
   "source": [
    "viewer_cellpose = napari.Viewer()\n",
    "viewer_cellpose.add_image(dapi_channel, name='DAPI Original', colormap='blue', scale=PHYSICAL_SCALE)\n",
    "viewer_cellpose.add_labels(cellpose_masks, name='Resultado Cellpose (Crudo)', scale=PHYSICAL_SCALE)"
   ]
  },
  {
   "cell_type": "markdown",
   "id": "adde99ae",
   "metadata": {},
   "source": [
    "## Paso 5: Filtrado por Co-localización GFAP\n",
    "\n",
    "Iteramos sobre cada núcleo detectado y lo conservamos solo si la señal GFAP en su \"anillo\" peri-nuclear supera el umbral definido. Guardamos la máscara de los núcleos candidatos."
   ]
  },
  {
   "cell_type": "code",
   "execution_count": 24,
   "id": "a4756024",
   "metadata": {},
   "outputs": [],
   "source": [
    "DILATION_ITERATIONS = 5\n",
    "GFAP_INTENSITY_THRESHOLD = 10"
   ]
  },
  {
   "cell_type": "code",
   "execution_count": 25,
   "id": "e212e4c7",
   "metadata": {},
   "outputs": [
    {
     "name": "stdout",
     "output_type": "stream",
     "text": [
      "Filtrando núcleos por señal GFAP circundante...\n",
      "Máscara filtrada por GFAP guardada en: /home/imagina/Proyectos/astrocitos-3d-analysis/data/processed/Inmuno 26-07-23.lif - CTL 1-2 a/03_gfap_filtered_mask.tif\n",
      "\n",
      "Proceso completado. Quedan 165 candidatos a astrocitos después del filtro GFAP.\n"
     ]
    }
   ],
   "source": [
    "print(\"Filtrando núcleos por señal GFAP circundante...\")\n",
    "astrocyte_labels_candidate = []\n",
    "# Re-calculamos props aquí por si las celdas se ejecutan fuera de orden\n",
    "nuclei_props = regionprops(cellpose_masks, intensity_image=gfap_channel)\n",
    "\n",
    "for nucleus in nuclei_props:\n",
    "    nucleus_mask = (cellpose_masks == nucleus.label)\n",
    "    dilated_mask = binary_dilation(nucleus_mask, iterations=DILATION_ITERATIONS)\n",
    "    shell_mask = dilated_mask & ~nucleus_mask\n",
    "    \n",
    "    if np.any(shell_mask):\n",
    "        shell_gfap_intensity = gfap_channel[shell_mask].mean()\n",
    "        if shell_gfap_intensity > GFAP_INTENSITY_THRESHOLD:\n",
    "            astrocyte_labels_candidate.append(nucleus.label)\n",
    "\n",
    "gfap_filtered_mask = np.where(np.isin(cellpose_masks, astrocyte_labels_candidate), cellpose_masks, 0)\n",
    "\n",
    "# Guardamos la máscara filtrada por GFAP\n",
    "tifffile.imwrite(gfap_filtered_mask_path, gfap_filtered_mask.astype(np.uint16))\n",
    "print(f\"Máscara filtrada por GFAP guardada en: {gfap_filtered_mask_path}\")\n",
    "\n",
    "# --- FEEDBACK CUANTITATIVO AÑADIDO ---\n",
    "print(f\"\\nProceso completado. Quedan {len(astrocyte_labels_candidate)} candidatos a astrocitos después del filtro GFAP.\")"
   ]
  },
  {
   "cell_type": "markdown",
   "id": "d3102dd0",
   "metadata": {},
   "source": [
    "### Visualización: Candidatos a Astrocitos (Calibrada)"
   ]
  },
  {
   "cell_type": "code",
   "execution_count": 26,
   "id": "246faacc",
   "metadata": {},
   "outputs": [
    {
     "data": {
      "text/plain": [
       "<Labels layer 'Candidatos a Astrocitos' at 0x75c6b99ebd70>"
      ]
     },
     "execution_count": 26,
     "metadata": {},
     "output_type": "execute_result"
    }
   ],
   "source": [
    "viewer_gfap = napari.Viewer()\n",
    "viewer_gfap.add_image(gfap_channel, name='GFAP', colormap='green', scale=PHYSICAL_SCALE)\n",
    "viewer_gfap.add_labels(gfap_filtered_mask, name='Candidatos a Astrocitos', scale=PHYSICAL_SCALE)"
   ]
  },
  {
   "cell_type": "markdown",
   "id": "18c940b2",
   "metadata": {},
   "source": [
    "## Paso 6: Post-procesamiento por Tamaño Físico\n",
    "Aplicamos el filtro final de limpieza, eliminando objetos con un volumen físico (µm³) menor al umbral definido."
   ]
  },
  {
   "cell_type": "code",
   "execution_count": 19,
   "id": "00971be0",
   "metadata": {},
   "outputs": [
    {
     "name": "stdout",
     "output_type": "stream",
     "text": [
      "Aplicando filtro final de tamaño...\n",
      "Máscara final guardada en: /home/imagina/Proyectos/astrocitos-3d-analysis/data/processed/Inmuno 26-07-23.lif - CTL 1-2 a/04_final_astrocytes_mask.tif\n"
     ]
    }
   ],
   "source": [
    "print(\"Aplicando filtro final de tamaño...\")\n",
    "final_props = regionprops(gfap_filtered_mask)\n",
    "# Usamos el umbral en vóxeles calculado en la celda de parámetros\n",
    "final_astrocyte_labels = [prop.label for prop in final_props if prop.area >= MIN_VOLUME_VOXELS]\n",
    "\n",
    "final_mask = np.where(np.isin(gfap_filtered_mask, final_astrocyte_labels), gfap_filtered_mask, 0)\n",
    "\n",
    "tifffile.imwrite(final_mask_path, final_mask.astype(np.uint16))\n",
    "print(f\"Máscara final guardada en: {final_mask_path}\")"
   ]
  },
  {
   "cell_type": "markdown",
   "id": "446d7c50",
   "metadata": {},
   "source": [
    "### Visualización: Resultado Final (Calibrada)\n",
    "Visualizamos la imagen original multi-canal junto a la máscara final de astrocitos, todo con la escala física correcta."
   ]
  },
  {
   "cell_type": "code",
   "execution_count": 20,
   "id": "ef6b1526",
   "metadata": {},
   "outputs": [
    {
     "data": {
      "text/plain": [
       "<Labels layer 'Astrocitos Finales' at 0x75c6b8d94320>"
      ]
     },
     "execution_count": 20,
     "metadata": {},
     "output_type": "execute_result"
    }
   ],
   "source": [
    "viewer_final = napari.Viewer()\n",
    "viewer_final.add_image(\n",
    "    image_stack, \n",
    "    channel_axis=1, \n",
    "    name=[\"DAPI\", \"GFAP\", \"Microglia\"], \n",
    "    colormap=[\"blue\", \"green\", \"red\"],\n",
    "    scale=PHYSICAL_SCALE\n",
    ")\n",
    "viewer_final.add_labels(\n",
    "    final_mask, \n",
    "    name='Astrocitos Finales',\n",
    "    scale=PHYSICAL_SCALE\n",
    ")"
   ]
  }
 ],
 "metadata": {
  "kernelspec": {
   "display_name": ".venv",
   "language": "python",
   "name": "python3"
  },
  "language_info": {
   "codemirror_mode": {
    "name": "ipython",
    "version": 3
   },
   "file_extension": ".py",
   "mimetype": "text/x-python",
   "name": "python",
   "nbconvert_exporter": "python",
   "pygments_lexer": "ipython3",
   "version": "3.12.3"
  }
 },
 "nbformat": 4,
 "nbformat_minor": 5
}
