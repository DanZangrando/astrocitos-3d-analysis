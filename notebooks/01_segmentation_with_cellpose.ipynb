{
 "cells": [
  {
   "cell_type": "markdown",
   "id": "1471d4c7",
   "metadata": {},
   "source": [
    "# Cuaderno de Segmentación y Análisis Calibrado de Astrocitos\n",
    "\n",
    "**Objetivo:** Este notebook detalla un flujo de trabajo para identificar núcleos de astrocitos, guardando y visualizando cada paso de filtrado. El análisis y la visualización están **calibrados con las dimensiones físicas del vóxel** para asegurar la precisión y reproducibilidad científica.\n",
    "\n",
    "**Flujo de Trabajo:**\n",
    "1.  **Configuración**: Definición de rutas y parámetros de calibración física y procesamiento.\n",
    "2.  **Carga de Datos**: Carga de la imagen original (DAPI, GFAP y Microglía).\n",
    "3.  **Pre-procesamiento (Otsu)**: Limpieza del canal DAPI.\n",
    "4.  **Segmentación (Cellpose)**: Segmentación de todos los núcleos.\n",
    "5.  **Filtrado Combinado**: Selección de núcleos por señal GFAP y exclusión por proximidad a señal de Microglía.\n",
    "6.  **Post-procesamiento (Tamaño Físico)**: Limpieza final por volumen físico (µm³).\n",
    "7.  **Visualización Integrada**: Visualización de todas las máscaras intermedias y finales en Napari."
   ]
  },
  {
   "cell_type": "markdown",
   "id": "0dda1cf9",
   "metadata": {},
   "source": [
    "## Paso 0: Activar el Backend Gráfico\n",
    "\n",
    "**Importante:** Ejecuta esta celda una sola vez por sesión. El comando mágico `%gui qt` prepara el notebook para mostrar ventanas interactivas como las de Napari."
   ]
  },
  {
   "cell_type": "code",
   "execution_count": 21,
   "id": "c69ea4a5",
   "metadata": {},
   "outputs": [],
   "source": [
    "%gui qt"
   ]
  },
  {
   "cell_type": "markdown",
   "id": "2ffefd24",
   "metadata": {},
   "source": [
    "## Paso 1: Configuración de Rutas y Parámetros\n",
    "\n",
    "Esta celda centraliza todas las variables que controlan el flujo de trabajo. Definir los parámetros aquí permite ajustar fácilmente el análisis para diferentes imágenes sin modificar el código en las celdas posteriores.\n",
    "\n",
    "### Fundamento del Filtrado y Reproducibilidad Científica 🔬\n",
    "\n",
    "La estrategia de este cuaderno se basa en un **filtrado secuencial**, un método robusto y común en el análisis de imágenes biológicas. En lugar de depender de un único algoritmo \"mágico\", aplicamos una serie de filtros lógicos, cada uno diseñado para eliminar un tipo específico de artefacto o señal no deseada.\n",
    "\n",
    "Este enfoque mejora la **reproducibilidad científica** por varias razones:\n",
    "1.  **Transparencia**: Cada paso del filtrado (Otsu, Cellpose, Co-localización, Tamaño) es explícito y sus parámetros están claramente definidos.\n",
    "2.  **Objetividad**: Al definir umbrales y parámetros numéricos, reducimos la subjetividad inherente a la selección manual.\n",
    "3.  **Adaptabilidad**: Si se utiliza un nuevo set de imágenes, solo es necesario reajustar los parámetros en esta celda para adaptar el mismo flujo de trabajo lógico, manteniendo la consistencia del método.\n",
    "4.  **Calibración**: El script ahora utiliza la librería `aicsimageio` en el Paso 2 para leer las dimensiones del vóxel (en X, Y, y Z) directamente de los metadatos del archivo `.tif` o `.lif`. Esto asegura la máxima precisión y elimina un posible punto de error humano. Las variables `PHYSICAL_SCALE` y `VOXEL_VOLUME_UM3` se calculan automáticamente a partir de estos valores leídos.\n",
    "\n",
    "---\n",
    "\n",
    "### Variables de Parámetros de Procesamiento\n",
    "\n",
    "* **`NUCLEUS_DIAMETER`**:\n",
    "    * **Uso**: En la **Celda de Segmentación con Cellpose**.\n",
    "    * **Explicación**: Es el parámetro más importante para Cellpose. Le informa al modelo sobre el tamaño esperado (en píxeles) de los objetos que debe buscar. Un valor correcto mejora drásticamente la precisión de la segmentación.\n",
    "\n",
    "* **`MAX_DILATION_ITERATIONS`**:\n",
    "    * **Uso**: En la **Celda de Filtrado Combinado**.\n",
    "    * **Explicación**: Controla la **distancia máxima de búsqueda** para la señal de GFAP o microglía alrededor de cada núcleo. El script expandirá un anillo hasta este número de iteraciones buscando una señal significativa.\n",
    "\n",
    "* **`GFAP_INTENSITY_THRESHOLD`**:\n",
    "    * **Uso**: En la **Celda de Filtrado Combinado**.\n",
    "    * **Explicación**: Es el umbral de decisión para considerar que una señal GFAP es positiva. Si la intensidad media en el anillo de búsqueda supera este valor (y se encuentra antes que la señal de microglía), el núcleo es aceptado.\n",
    "\n",
    "* **`MICROGLIA_INTENSITY_THRESHOLD`** (Nuevo):\n",
    "    * **Uso**: En la **Celda de Filtrado Combinado**.\n",
    "    * **Explicación**: Es el umbral de decisión para la exclusión. Si la intensidad media de la microglía en el anillo de búsqueda supera este valor antes que la señal de GFAP, el núcleo se descarta.\n",
    "\n",
    "* **`MIN_VOLUME_UM3`**:\n",
    "    * **Uso**: En la **Celda de Post-procesamiento por Tamaño**.\n",
    "    * **Explicación**: Es el parámetro para el filtro de limpieza final, **definido en unidades físicas (micrómetros cúbicos, µm³)**. El script lo convierte automáticamente a un umbral en vóxeles (`MIN_VOLUME_VOXELS`) usando las dimensiones de calibración."
   ]
  },
  {
   "cell_type": "code",
   "execution_count": 22,
   "id": "9dd8f01c",
   "metadata": {},
   "outputs": [
    {
     "name": "stdout",
     "output_type": "stream",
     "text": [
      "Parámetros de procesamiento definidos. La calibración física se obtendrá de los metadatos de la imagen.\n"
     ]
    }
   ],
   "source": [
    "from pathlib import Path\n",
    "\n",
    "# --- Rutas de Archivos ---\n",
    "project_root = Path.cwd().parent\n",
    "base_filename = \"Inmuno 26-07-23.lif - CTL 1-2 a\"\n",
    "subfolder = \"CTL/CTL 1-2\"\n",
    "image_path = project_root / f\"data/raw/{subfolder}/{base_filename}.tif\"\n",
    "\n",
    "# --- Rutas de Salida ---\n",
    "output_dir = project_root / \"data/processed\" / base_filename\n",
    "output_dir.mkdir(parents=True, exist_ok=True)\n",
    "otsu_mask_path = output_dir / \"01_otsu_mask.tif\"\n",
    "cellpose_mask_path = output_dir / \"02_cellpose_mask.tif\"\n",
    "gfap_filtered_mask_path = output_dir / \"03_gfap_microglia_filtered_mask.tif\"\n",
    "final_mask_path = output_dir / \"04_final_astrocytes_mask.tif\"\n",
    "\n",
    "# --- Parámetros de Procesamiento ---\n",
    "# NOTA: Los parámetros de calibración física se leerán automáticamente del archivo de imagen.\n",
    "NUCLEUS_DIAMETER = 30\n",
    "MAX_DILATION_ITERATIONS = 40\n",
    "GFAP_INTENSITY_THRESHOLD = 10\n",
    "MICROGLIA_INTENSITY_THRESHOLD = 50\n",
    "MIN_VOLUME_UM3 = 75\n",
    "\n",
    "# La conversión de MIN_VOLUME_UM3 a vóxeles se hará después de leer la calibración.\n",
    "print(\"Parámetros de procesamiento definidos. La calibración física se obtendrá de los metadatos de la imagen.\")"
   ]
  },
  {
   "cell_type": "markdown",
   "id": "efb0a086",
   "metadata": {},
   "source": [
    "## Paso 2: Carga de Datos y Calibración Automática\n",
    "\n",
    "Utilizamos `aicsimageio` para abrir el archivo. Esta librería lee no solo los datos de la imagen como un array de NumPy, sino también los metadatos importantes, como las dimensiones físicas de cada vóxel. Una vez leídos, calculamos los parámetros de calibración y procedemos a separar los canales."
   ]
  },
  {
   "cell_type": "code",
   "execution_count": 23,
   "id": "c31d91d0",
   "metadata": {},
   "outputs": [
    {
     "name": "stdout",
     "output_type": "stream",
     "text": [
      "Cargando imagen y metadatos desde: Inmuno 26-07-23.lif - CTL 1-2 a.tif...\n",
      "\n",
      "--- Calibración Automática Exitosa ---\n",
      "Dimensiones del Vóxel (Z, Y, X) en µm: (1.0071, 0.3788, 0.3788)\n",
      "Umbral de 75 µm³ equivale a 519 vóxeles.\n",
      "--------------------------------------\n",
      "\n",
      "Canales DAPI, GFAP y Microglía cargados y listos para el análisis.\n"
     ]
    }
   ],
   "source": [
    "import numpy as np\n",
    "import pandas as pd\n",
    "from aicsimageio import AICSImage  # Usamos AICSImage en lugar de tifffile\n",
    "from cellpose import models\n",
    "from skimage.measure import regionprops, regionprops_table\n",
    "from skimage.filters import threshold_otsu\n",
    "from scipy.ndimage import binary_dilation\n",
    "import napari\n",
    "\n",
    "# --- Lectura de Imagen y Metadatos con AICSImageIO ---\n",
    "print(f\"Cargando imagen y metadatos desde: {image_path.name}...\")\n",
    "img = AICSImage(image_path)\n",
    "image_stack = img.get_image_data(\"ZCXY\", T=0) # Obtenemos el array en orden Z, Canal, Y, X\n",
    "\n",
    "# --- CALIBRACIÓN AUTOMÁTICA ---\n",
    "# Extraemos las dimensiones físicas de los metadatos (devueltas en µm)\n",
    "Z_SPACING_UM = img.physical_pixel_sizes.Z\n",
    "PIXEL_HEIGHT_UM = img.physical_pixel_sizes.Y\n",
    "PIXEL_WIDTH_UM = img.physical_pixel_sizes.X\n",
    "\n",
    "# Calculamos los parámetros de calibración sobre la marcha\n",
    "VOXEL_VOLUME_UM3 = PIXEL_WIDTH_UM * PIXEL_HEIGHT_UM * Z_SPACING_UM\n",
    "PHYSICAL_SCALE = (Z_SPACING_UM, PIXEL_HEIGHT_UM, PIXEL_WIDTH_UM)\n",
    "\n",
    "# Ahora que tenemos la calibración, calculamos el umbral de volumen en vóxeles\n",
    "MIN_VOLUME_VOXELS = int(MIN_VOLUME_UM3 / VOXEL_VOLUME_UM3)\n",
    "\n",
    "print(\"\\n--- Calibración Automática Exitosa ---\")\n",
    "print(f\"Dimensiones del Vóxel (Z, Y, X) en µm: ({Z_SPACING_UM:.4f}, {PIXEL_HEIGHT_UM:.4f}, {PIXEL_WIDTH_UM:.4f})\")\n",
    "print(f\"Umbral de {MIN_VOLUME_UM3} µm³ equivale a {MIN_VOLUME_VOXELS} vóxeles.\")\n",
    "print(\"--------------------------------------\\n\")\n",
    "\n",
    "\n",
    "# --- Separación de Canales ---\n",
    "dapi_channel = image_stack[:, 0, :, :]\n",
    "gfap_channel = image_stack[:, 1, :, :]\n",
    "microglia_channel = image_stack[:, 2, :, :]\n",
    "print(\"Canales DAPI, GFAP y Microglía cargados y listos para el análisis.\")"
   ]
  },
  {
   "cell_type": "markdown",
   "id": "e1f5ed28",
   "metadata": {},
   "source": [
    "## Paso 2: Carga de Datos e Importaciones"
   ]
  },
  {
   "cell_type": "code",
   "execution_count": 24,
   "id": "02af45e2",
   "metadata": {},
   "outputs": [
    {
     "name": "stdout",
     "output_type": "stream",
     "text": [
      "Cargando imagen: Inmuno 26-07-23.lif - CTL 1-2 a.tif...\n",
      "Canales DAPI, GFAP y Microglía cargados.\n"
     ]
    }
   ],
   "source": [
    "import tifffile\n",
    "import numpy as np\n",
    "import pandas as pd\n",
    "from cellpose import models\n",
    "from skimage.measure import regionprops, regionprops_table\n",
    "from skimage.filters import threshold_otsu\n",
    "from scipy.ndimage import binary_dilation\n",
    "import napari\n",
    "\n",
    "print(f\"Cargando imagen: {image_path.name}...\")\n",
    "image_stack = tifffile.imread(image_path)\n",
    "dapi_channel = image_stack[:, 0, :, :]\n",
    "gfap_channel = image_stack[:, 1, :, :]\n",
    "microglia_channel = image_stack[:, 2, :, :]\n",
    "print(\"Canales DAPI, GFAP y Microglía cargados.\")"
   ]
  },
  {
   "cell_type": "markdown",
   "id": "efac0632",
   "metadata": {},
   "source": [
    "## Paso 3: Pre-procesamiento con Umbral de Otsu\n",
    "Limpiamos el canal DAPI para eliminar ruido de fondo y guardamos el resultado."
   ]
  },
  {
   "cell_type": "code",
   "execution_count": 25,
   "id": "26a91ba0",
   "metadata": {},
   "outputs": [
    {
     "name": "stdout",
     "output_type": "stream",
     "text": [
      "Aplicando umbral de Otsu...\n",
      "Máscara de Otsu guardada en: /home/daniel/Proyectos/astrocitos-3d-analysis/data/processed/Inmuno 26-07-23.lif - CTL 1-2 a/01_otsu_mask.tif\n"
     ]
    }
   ],
   "source": [
    "print(\"Aplicando umbral de Otsu...\")\n",
    "otsu_threshold = threshold_otsu(dapi_channel)\n",
    "otsu_mask = dapi_channel > otsu_threshold\n",
    "dapi_channel_cleaned = np.where(otsu_mask, dapi_channel, 0)\n",
    "\n",
    "tifffile.imwrite(otsu_mask_path, otsu_mask.astype(np.uint8))\n",
    "print(f\"Máscara de Otsu guardada en: {otsu_mask_path}\")"
   ]
  },
  {
   "cell_type": "markdown",
   "id": "9440a400",
   "metadata": {},
   "source": [
    "### Visualización: Máscara de Otsu (Calibrada)"
   ]
  },
  {
   "cell_type": "code",
   "execution_count": 26,
   "id": "6984a9c9",
   "metadata": {},
   "outputs": [
    {
     "data": {
      "text/plain": [
       "<Labels layer 'Máscara de Otsu' at 0x7afe44787e00>"
      ]
     },
     "execution_count": 26,
     "metadata": {},
     "output_type": "execute_result"
    }
   ],
   "source": [
    "viewer_otsu = napari.Viewer()\n",
    "viewer_otsu.add_image(dapi_channel, name='DAPI Original', colormap='blue', scale=PHYSICAL_SCALE)\n",
    "viewer_otsu.add_image(microglia_channel, name='Microglía Original', colormap='red', scale=PHYSICAL_SCALE)\n",
    "viewer_otsu.add_image(gfap_channel, name='GFAP Original', colormap='green', scale=PHYSICAL_SCALE)\n",
    "viewer_otsu.add_labels(otsu_mask, name='Máscara de Otsu', scale=PHYSICAL_SCALE)"
   ]
  },
  {
   "cell_type": "markdown",
   "id": "d7b9f7e2",
   "metadata": {},
   "source": [
    "## Paso 4: Segmentación de Núcleos con Cellpose\n",
    "Ejecutamos Cellpose sobre el canal DAPI limpio y guardamos la máscara de etiquetas resultante."
   ]
  },
  {
   "cell_type": "code",
   "execution_count": 27,
   "id": "789257ee",
   "metadata": {},
   "outputs": [
    {
     "name": "stdout",
     "output_type": "stream",
     "text": [
      "Ejecuting segmentación con Cellpose...\n",
      "Máscara de Cellpose guardada en: /home/daniel/Proyectos/astrocitos-3d-analysis/data/processed/Inmuno 26-07-23.lif - CTL 1-2 a/02_cellpose_mask.tif\n",
      "\n",
      "Número total de núcleos encontrados por Cellpose: 363\n"
     ]
    }
   ],
   "source": [
    "model = models.CellposeModel(gpu=True)\n",
    "print(\"Ejecuting segmentación con Cellpose...\")\n",
    "cellpose_masks, _, _ = model.eval(\n",
    "    dapi_channel_cleaned,\n",
    "    diameter=NUCLEUS_DIAMETER,\n",
    "    z_axis=0,\n",
    "    do_3D=True\n",
    ")\n",
    "\n",
    "tifffile.imwrite(cellpose_mask_path, cellpose_masks.astype(np.uint16))\n",
    "print(f\"Máscara de Cellpose guardada en: {cellpose_mask_path}\")\n",
    "\n",
    "if cellpose_masks.max() > 0:\n",
    "    props = regionprops_table(cellpose_masks, properties=('label',))\n",
    "    print(f\"\\nNúmero total de núcleos encontrados por Cellpose: {len(props['label'])}\")\n",
    "else:\n",
    "    print(\"\\nNo se encontraron objetos en la segmentación inicial.\")"
   ]
  },
  {
   "cell_type": "markdown",
   "id": "45bc0417",
   "metadata": {},
   "source": [
    "### Visualización: Resultado de Cellpose (Calibrada)"
   ]
  },
  {
   "cell_type": "code",
   "execution_count": null,
   "id": "13c06d9b",
   "metadata": {},
   "outputs": [
    {
     "data": {
      "text/plain": [
       "<Labels layer 'Resultado Cellpose (Crudo)' at 0x7afe467fac60>"
      ]
     },
     "execution_count": 28,
     "metadata": {},
     "output_type": "execute_result"
    },
    {
     "name": "stderr",
     "output_type": "stream",
     "text": [
      "/home/daniel/Proyectos/astrocitos-3d-analysis/venv/lib/python3.12/site-packages/napari/layers/labels/labels.py:908: UserWarning: Contours are not displayed during 3D rendering\n",
      "  warnings.warn(\n",
      "/home/daniel/Proyectos/astrocitos-3d-analysis/venv/lib/python3.12/site-packages/napari/layers/labels/labels.py:908: UserWarning: Contours are not displayed during 3D rendering\n",
      "  warnings.warn(\n"
     ]
    }
   ],
   "source": [
    "viewer_cellpose = napari.Viewer()\n",
    "viewer_cellpose.add_image(dapi_channel, name='DAPI Original', colormap='blue', scale=PHYSICAL_SCALE)\n",
    "viewer_cellpose.add_labels(cellpose_masks, name='Resultado Cellpose (Crudo)', scale=PHYSICAL_SCALE)"
   ]
  },
  {
   "cell_type": "markdown",
   "id": "adde99ae",
   "metadata": {},
   "source": [
    "## Paso 5: Filtrado Combinado por Co-localización GFAP y Exclusión por Microglía\n",
    "\n",
    "Este es el paso de filtrado principal, ahora con la lógica actualizada. Para cada núcleo, expandimos un anillo a su alrededor, píxel por píxel, y comprobamos qué señal (GFAP o Microglía) supera primero su umbral.\n",
    "\n",
    "- **Éxito (Candidato a Astrocito)**: Si la señal GFAP es la primera en ser detectada.\n",
    "- **Fallo (Núcleo Excluido)**: Si la señal de Microglía es detectada primero o al mismo tiempo."
   ]
  },
  {
   "cell_type": "code",
   "execution_count": 29,
   "id": "e212e4c7",
   "metadata": {},
   "outputs": [
    {
     "name": "stdout",
     "output_type": "stream",
     "text": [
      "Iniciando filtrado combinado por señal GFAP y exclusión por Microglía...\n",
      "Máscara filtrada guardada en: /home/daniel/Proyectos/astrocitos-3d-analysis/data/processed/Inmuno 26-07-23.lif - CTL 1-2 a/03_gfap_microglia_filtered_mask.tif\n",
      "\n",
      "Proceso completado. Quedan 251 candidatos a astrocitos después del filtro combinado.\n"
     ]
    }
   ],
   "source": [
    "MAX_DILATION_ITERATIONS = 50\n",
    "GFAP_INTENSITY_THRESHOLD = 10\n",
    "MICROGLIA_INTENSITY_THRESHOLD = 50\n",
    "\n",
    "\n",
    "print(\"Iniciando filtrado combinado por señal GFAP y exclusión por Microglía...\")\n",
    "astrocyte_labels_candidate = []\n",
    "nuclei_props = regionprops(cellpose_masks)\n",
    "\n",
    "for nucleus in nuclei_props:\n",
    "    nucleus_mask = (cellpose_masks == nucleus.label)\n",
    "    current_mask = nucleus_mask\n",
    "    \n",
    "    for i in range(MAX_DILATION_ITERATIONS):\n",
    "        dilated_mask = binary_dilation(current_mask)\n",
    "        shell_mask = dilated_mask & ~current_mask\n",
    "        \n",
    "        if not np.any(shell_mask):\n",
    "            break\n",
    "            \n",
    "        shell_gfap_intensity = gfap_channel[shell_mask].mean()\n",
    "        shell_microglia_intensity = microglia_channel[shell_mask].mean()\n",
    "        \n",
    "        if shell_microglia_intensity > MICROGLIA_INTENSITY_THRESHOLD:\n",
    "            break\n",
    "            \n",
    "        if shell_gfap_intensity > GFAP_INTENSITY_THRESHOLD:\n",
    "            astrocyte_labels_candidate.append(nucleus.label)\n",
    "            break\n",
    "        \n",
    "        current_mask = dilated_mask\n",
    "\n",
    "gfap_filtered_mask = np.where(np.isin(cellpose_masks, astrocyte_labels_candidate), cellpose_masks, 0)\n",
    "\n",
    "tifffile.imwrite(gfap_filtered_mask_path, gfap_filtered_mask.astype(np.uint16))\n",
    "print(f\"Máscara filtrada guardada en: {gfap_filtered_mask_path}\")\n",
    "print(f\"\\nProceso completado. Quedan {len(astrocyte_labels_candidate)} candidatos a astrocitos después del filtro combinado.\")"
   ]
  },
  {
   "cell_type": "markdown",
   "id": "d3102dd0",
   "metadata": {},
   "source": [
    "### Visualización: Candidatos a Astrocitos (Calibrada)"
   ]
  },
  {
   "cell_type": "code",
   "execution_count": 11,
   "id": "246faacc",
   "metadata": {},
   "outputs": [
    {
     "data": {
      "text/plain": [
       "<Labels layer 'Candidatos a Astrocitos' at 0x7afe6c37bec0>"
      ]
     },
     "execution_count": 11,
     "metadata": {},
     "output_type": "execute_result"
    }
   ],
   "source": [
    "viewer_gfap = napari.Viewer()\n",
    "viewer_gfap.add_image(gfap_channel, name='GFAP', colormap='green', scale=PHYSICAL_SCALE)\n",
    "viewer_gfap.add_image(microglia_channel, name='Microglia', colormap='magenta', scale=PHYSICAL_SCALE)\n",
    "viewer_gfap.add_labels(gfap_filtered_mask, name='Candidatos a Astrocitos', scale=PHYSICAL_SCALE)"
   ]
  },
  {
   "cell_type": "markdown",
   "id": "18c940b2",
   "metadata": {},
   "source": [
    "## Paso 6: Post-procesamiento por Tamaño Físico\n",
    "Aplicamos el filtro final de limpieza, eliminando objetos con un volumen físico (µm³) menor al umbral definido."
   ]
  },
  {
   "cell_type": "code",
   "execution_count": 30,
   "id": "00971be0",
   "metadata": {},
   "outputs": [
    {
     "name": "stdout",
     "output_type": "stream",
     "text": [
      "Aplicando filtro final de tamaño...\n",
      "Máscara final guardada en: /home/daniel/Proyectos/astrocitos-3d-analysis/data/processed/Inmuno 26-07-23.lif - CTL 1-2 a/04_final_astrocytes_mask.tif\n",
      "Número final de astrocitos identificados: 169\n"
     ]
    }
   ],
   "source": [
    "print(\"Aplicando filtro final de tamaño...\")\n",
    "final_props = regionprops(gfap_filtered_mask)\n",
    "final_astrocyte_labels = [prop.label for prop in final_props if prop.area >= MIN_VOLUME_VOXELS]\n",
    "\n",
    "final_mask = np.where(np.isin(gfap_filtered_mask, final_astrocyte_labels), gfap_filtered_mask, 0)\n",
    "\n",
    "tifffile.imwrite(final_mask_path, final_mask.astype(np.uint16))\n",
    "print(f\"Máscara final guardada en: {final_mask_path}\")\n",
    "print(f\"Número final de astrocitos identificados: {len(final_astrocyte_labels)}\")"
   ]
  },
  {
   "cell_type": "markdown",
   "id": "446d7c50",
   "metadata": {},
   "source": [
    "## Paso 7: Visualización Final Integrada\n",
    "Visualizamos la imagen original multi-canal junto a todas las máscaras generadas en el pipeline, permitiendo una revisión completa del proceso. Cada máscara se puede activar o desactivar para comparar los resultados de cada paso."
   ]
  },
  {
   "cell_type": "code",
   "execution_count": 20,
   "id": "ef6b1526",
   "metadata": {},
   "outputs": [
    {
     "name": "stdout",
     "output_type": "stream",
     "text": [
      "Abriendo Napari con todas las capas del pipeline...\n"
     ]
    },
    {
     "data": {
      "text/plain": [
       "<Labels layer '04 - Astrocitos Finales' at 0x7afe45104980>"
      ]
     },
     "execution_count": 20,
     "metadata": {},
     "output_type": "execute_result"
    }
   ],
   "source": [
    "print(\"Abriendo Napari con todas las capas del pipeline...\")\n",
    "\n",
    "# Cargamos todas las máscaras guardadas para asegurar que tenemos las versiones correctas\n",
    "otsu_mask_viz = tifffile.imread(otsu_mask_path)\n",
    "cellpose_mask_viz = tifffile.imread(cellpose_mask_path)\n",
    "gfap_filtered_mask_viz = tifffile.imread(gfap_filtered_mask_path)\n",
    "final_mask_viz = tifffile.imread(final_mask_path)\n",
    "\n",
    "viewer_final = napari.Viewer(title=\"Pipeline de Segmentación de Astrocitos\")\n",
    "\n",
    "# Capas de las señales originales\n",
    "viewer_final.add_image(\n",
    "    image_stack,\n",
    "    channel_axis=1,\n",
    "    name=[\"DAPI\", \"GFAP\", \"Microglia\"],\n",
    "    colormap=[\"blue\", \"green\", \"magenta\"],\n",
    "    scale=PHYSICAL_SCALE\n",
    ")\n",
    "\n",
    "# Capas de las máscaras generadas\n",
    "viewer_final.add_labels(otsu_mask_viz, name='01 - Máscara Otsu', scale=PHYSICAL_SCALE, visible=False)\n",
    "viewer_final.add_labels(cellpose_mask_viz, name='02 - Máscara Cellpose', scale=PHYSICAL_SCALE, visible=False)\n",
    "viewer_final.add_labels(gfap_filtered_mask_viz, name='03 - Filtro GFAP y Microglia', scale=PHYSICAL_SCALE, visible=False)\n",
    "viewer_final.add_labels(final_mask_viz, name='04 - Astrocitos Finales', scale=PHYSICAL_SCALE, visible=True)"
   ]
  }
 ],
 "metadata": {
  "kernelspec": {
   "display_name": "venv",
   "language": "python",
   "name": "python3"
  },
  "language_info": {
   "codemirror_mode": {
    "name": "ipython",
    "version": 3
   },
   "file_extension": ".py",
   "mimetype": "text/x-python",
   "name": "python",
   "nbconvert_exporter": "python",
   "pygments_lexer": "ipython3",
   "version": "3.12.3"
  }
 },
 "nbformat": 4,
 "nbformat_minor": 5
}
