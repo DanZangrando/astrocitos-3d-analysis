{
 "cells": [
  {
   "cell_type": "markdown",
   "id": "80c7308c",
   "metadata": {},
   "source": []
  },
  {
   "cell_type": "markdown",
   "id": "c50d1cfb",
   "metadata": {},
   "source": [
    "# Cuaderno 02: Análisis Morfológico Integral de Astrocitos\n",
    "\n",
    "**Objetivo:** Este cuaderno carga las máscaras de astrocitos finales y realiza un análisis cuantitativo completo para caracterizar su morfología y complejidad estructural.\n",
    "\n",
    "**Flujo de Trabajo:**\n",
    "1.  **Configuración**: Definir rutas, parámetros de calibración y análisis.\n",
    "2.  **Carga de Datos**: Cargar la máscara de astrocitos y el canal GFAP original.\n",
    "3.  **Análisis Morfológico por Astrocito**: Iterar sobre cada astrocito para calcular:\n",
    "    * **Propiedades Básicas**: Volumen y centroide.\n",
    "    * **Skeletonización 3D**: Obtener el esqueleto de los procesos.\n",
    "    * **Análisis de Ramificaciones**: Medir longitud y número de ramas del esqueleto.\n",
    "    * **Análisis de Sholl**: Medir la complejidad radial.\n",
    "    * **Territorio Celular**: Calcular el volumen de la envolvente convexa.\n",
    "4.  **Consolidación y Glosario**: Agrupar todos los resultados y explicar cada métrica.\n",
    "5.  **Visualización**: Mostrar los resultados en Napari y con gráficos.\n",
    "6.  **Guardado Final**: Exportar todos los datos a un único archivo CSV."
   ]
  },
  {
   "cell_type": "markdown",
   "id": "ae804da9",
   "metadata": {},
   "source": [
    "## Paso 0: Activar el Backend Gráfico"
   ]
  },
  {
   "cell_type": "code",
   "execution_count": 3,
   "id": "28c8fca3",
   "metadata": {},
   "outputs": [
    {
     "name": "stdout",
     "output_type": "stream",
     "text": [
      "Note: you may need to restart the kernel to use updated packages.\n"
     ]
    }
   ],
   "source": [
    "%gui qt\n",
    "%pip install skan --quiet"
   ]
  },
  {
   "cell_type": "markdown",
   "id": "f19bc91a",
   "metadata": {},
   "source": [
    "## Paso 1: Configuración de Rutas y Parámetros"
   ]
  },
  {
   "cell_type": "code",
   "execution_count": 4,
   "id": "013dc56f",
   "metadata": {},
   "outputs": [],
   "source": [
    "from pathlib import Path\n",
    "\n",
    "# --- Rutas de Archivos de Entrada ---\n",
    "project_root = Path.cwd().parent\n",
    "base_filename = \"Inmuno 26-07-23.lif - CTL 1-2 a\"\n",
    "subfolder = \"CTL/CTL 1-2\"\n",
    "original_image_path = project_root / f\"data/raw/{subfolder}/{base_filename}.tif\"\n",
    "final_mask_path = project_root / f\"data/processed/{base_filename}/04_final_astrocytes_mask.tif\"\n",
    "\n",
    "# --- Rutas de Archivos de Salida ---\n",
    "results_dir = project_root / \"results/tables\"\n",
    "results_dir.mkdir(parents=True, exist_ok=True)\n",
    "morphology_output_path = results_dir / f\"{base_filename}_full_morphology.csv\"\n",
    "skeleton_output_dir = project_root / \"data/processed\" / base_filename / \"skeletons\"\n",
    "skeleton_output_dir.mkdir(parents=True, exist_ok=True)\n",
    "\n",
    "# --- Parámetros de Calibración Física (µm)---\n",
    "PIXEL_WIDTH_UM = 0.3788\n",
    "PIXEL_HEIGHT_UM = 0.3788\n",
    "Z_SPACING_UM = 1.0071\n",
    "VOXEL_VOLUME_UM3 = PIXEL_WIDTH_UM * PIXEL_HEIGHT_UM * Z_SPACING_UM\n",
    "PHYSICAL_SCALE = (Z_SPACING_UM, PIXEL_HEIGHT_UM, PIXEL_WIDTH_UM)\n",
    "\n",
    "# --- Parámetros para el Análisis de Sholl ---\n",
    "SHOLL_START_RADIUS_UM = 5.0\n",
    "SHOLL_END_RADIUS_UM = 50.0\n",
    "SHOLL_STEP_UM = 2.0"
   ]
  },
  {
   "cell_type": "markdown",
   "id": "991b9787",
   "metadata": {},
   "source": [
    "## Paso 2: Carga de Datos e Importaciones"
   ]
  },
  {
   "cell_type": "code",
   "execution_count": 6,
   "id": "f704cd1f",
   "metadata": {},
   "outputs": [
    {
     "name": "stdout",
     "output_type": "stream",
     "text": [
      "Datos cargados. Se analizarán 56 astrocitos.\n"
     ]
    }
   ],
   "source": [
    "import tifffile\n",
    "import numpy as np\n",
    "import pandas as pd\n",
    "from skimage.measure import regionprops, label\n",
    "# --- CORRECCIÓN AQUÍ ---\n",
    "from skimage.morphology import skeletonize\n",
    "# -----------------------\n",
    "from skimage.filters import threshold_otsu\n",
    "from scipy.spatial import ConvexHull\n",
    "import skan\n",
    "import napari\n",
    "import matplotlib.pyplot as plt\n",
    "\n",
    "try:\n",
    "    astrocyte_mask = tifffile.imread(final_mask_path)\n",
    "    original_image = tifffile.imread(original_image_path)\n",
    "    gfap_channel = original_image[:, 1, :, :]\n",
    "    astrocyte_ids = np.unique(astrocyte_mask)[1:]\n",
    "    print(f\"Datos cargados. Se analizarán {len(astrocyte_ids)} astrocitos.\")\n",
    "except FileNotFoundError:\n",
    "    print(\"Error: No se encontraron archivos. Ejecuta el cuaderno 01 primero.\")"
   ]
  },
  {
   "cell_type": "markdown",
   "id": "713437ed",
   "metadata": {},
   "source": [
    "## Paso 3: Análisis Morfológico por Astrocito\n",
    "\n",
    "Iteramos a través de cada astrocito para calcular un perfil morfológico completo, desde su volumen hasta la complejidad de sus ramas."
   ]
  },
  {
   "cell_type": "code",
   "execution_count": null,
   "id": "a2c6aace",
   "metadata": {},
   "outputs": [
    {
     "name": "stdout",
     "output_type": "stream",
     "text": [
      "Iniciando análisis morfológico para cada astrocito...\n"
     ]
    },
    {
     "ename": "KeyError",
     "evalue": "'branch-distance'",
     "output_type": "error",
     "traceback": [
      "\u001b[31m---------------------------------------------------------------------------\u001b[39m",
      "\u001b[31mKeyError\u001b[39m                                  Traceback (most recent call last)",
      "\u001b[36mFile \u001b[39m\u001b[32m~/Proyectos/astrocitos-3d-analysis/venv/lib/python3.12/site-packages/pandas/core/indexes/base.py:3812\u001b[39m, in \u001b[36mIndex.get_loc\u001b[39m\u001b[34m(self, key)\u001b[39m\n\u001b[32m   3811\u001b[39m \u001b[38;5;28;01mtry\u001b[39;00m:\n\u001b[32m-> \u001b[39m\u001b[32m3812\u001b[39m     \u001b[38;5;28;01mreturn\u001b[39;00m \u001b[38;5;28;43mself\u001b[39;49m\u001b[43m.\u001b[49m\u001b[43m_engine\u001b[49m\u001b[43m.\u001b[49m\u001b[43mget_loc\u001b[49m\u001b[43m(\u001b[49m\u001b[43mcasted_key\u001b[49m\u001b[43m)\u001b[49m\n\u001b[32m   3813\u001b[39m \u001b[38;5;28;01mexcept\u001b[39;00m \u001b[38;5;167;01mKeyError\u001b[39;00m \u001b[38;5;28;01mas\u001b[39;00m err:\n",
      "\u001b[36mFile \u001b[39m\u001b[32mpandas/_libs/index.pyx:167\u001b[39m, in \u001b[36mpandas._libs.index.IndexEngine.get_loc\u001b[39m\u001b[34m()\u001b[39m\n",
      "\u001b[36mFile \u001b[39m\u001b[32mpandas/_libs/index.pyx:196\u001b[39m, in \u001b[36mpandas._libs.index.IndexEngine.get_loc\u001b[39m\u001b[34m()\u001b[39m\n",
      "\u001b[36mFile \u001b[39m\u001b[32mpandas/_libs/hashtable_class_helper.pxi:7088\u001b[39m, in \u001b[36mpandas._libs.hashtable.PyObjectHashTable.get_item\u001b[39m\u001b[34m()\u001b[39m\n",
      "\u001b[36mFile \u001b[39m\u001b[32mpandas/_libs/hashtable_class_helper.pxi:7096\u001b[39m, in \u001b[36mpandas._libs.hashtable.PyObjectHashTable.get_item\u001b[39m\u001b[34m()\u001b[39m\n",
      "\u001b[31mKeyError\u001b[39m: 'branch-distance'",
      "\nThe above exception was the direct cause of the following exception:\n",
      "\u001b[31mKeyError\u001b[39m                                  Traceback (most recent call last)",
      "\u001b[36mCell\u001b[39m\u001b[36m \u001b[39m\u001b[32mIn[11]\u001b[39m\u001b[32m, line 37\u001b[39m\n\u001b[32m     31\u001b[39m         \u001b[38;5;66;03m# FIX 2: Añadir el argumento 'separator' para silenciar la advertencia\u001b[39;00m\n\u001b[32m     32\u001b[39m         branch_data = skan.summarize(\n\u001b[32m     33\u001b[39m             skan.Skeleton(skeleton, spacing=PHYSICAL_SCALE), \n\u001b[32m     34\u001b[39m             separator=\u001b[33m'\u001b[39m\u001b[33m_\u001b[39m\u001b[33m'\u001b[39m\n\u001b[32m     35\u001b[39m         )\n\u001b[32m---> \u001b[39m\u001b[32m37\u001b[39m         total_length_um = \u001b[43mbranch_data\u001b[49m\u001b[43m[\u001b[49m\u001b[33;43m'\u001b[39;49m\u001b[33;43mbranch-distance\u001b[39;49m\u001b[33;43m'\u001b[39;49m\u001b[43m]\u001b[49m.sum()\n\u001b[32m     38\u001b[39m         num_branches = \u001b[38;5;28mlen\u001b[39m(branch_data)\n\u001b[32m     40\u001b[39m \u001b[38;5;66;03m# --- 3. Análisis de Sholl ---\u001b[39;00m\n",
      "\u001b[36mFile \u001b[39m\u001b[32m~/Proyectos/astrocitos-3d-analysis/venv/lib/python3.12/site-packages/pandas/core/frame.py:4107\u001b[39m, in \u001b[36mDataFrame.__getitem__\u001b[39m\u001b[34m(self, key)\u001b[39m\n\u001b[32m   4105\u001b[39m \u001b[38;5;28;01mif\u001b[39;00m \u001b[38;5;28mself\u001b[39m.columns.nlevels > \u001b[32m1\u001b[39m:\n\u001b[32m   4106\u001b[39m     \u001b[38;5;28;01mreturn\u001b[39;00m \u001b[38;5;28mself\u001b[39m._getitem_multilevel(key)\n\u001b[32m-> \u001b[39m\u001b[32m4107\u001b[39m indexer = \u001b[38;5;28;43mself\u001b[39;49m\u001b[43m.\u001b[49m\u001b[43mcolumns\u001b[49m\u001b[43m.\u001b[49m\u001b[43mget_loc\u001b[49m\u001b[43m(\u001b[49m\u001b[43mkey\u001b[49m\u001b[43m)\u001b[49m\n\u001b[32m   4108\u001b[39m \u001b[38;5;28;01mif\u001b[39;00m is_integer(indexer):\n\u001b[32m   4109\u001b[39m     indexer = [indexer]\n",
      "\u001b[36mFile \u001b[39m\u001b[32m~/Proyectos/astrocitos-3d-analysis/venv/lib/python3.12/site-packages/pandas/core/indexes/base.py:3819\u001b[39m, in \u001b[36mIndex.get_loc\u001b[39m\u001b[34m(self, key)\u001b[39m\n\u001b[32m   3814\u001b[39m     \u001b[38;5;28;01mif\u001b[39;00m \u001b[38;5;28misinstance\u001b[39m(casted_key, \u001b[38;5;28mslice\u001b[39m) \u001b[38;5;129;01mor\u001b[39;00m (\n\u001b[32m   3815\u001b[39m         \u001b[38;5;28misinstance\u001b[39m(casted_key, abc.Iterable)\n\u001b[32m   3816\u001b[39m         \u001b[38;5;129;01mand\u001b[39;00m \u001b[38;5;28many\u001b[39m(\u001b[38;5;28misinstance\u001b[39m(x, \u001b[38;5;28mslice\u001b[39m) \u001b[38;5;28;01mfor\u001b[39;00m x \u001b[38;5;129;01min\u001b[39;00m casted_key)\n\u001b[32m   3817\u001b[39m     ):\n\u001b[32m   3818\u001b[39m         \u001b[38;5;28;01mraise\u001b[39;00m InvalidIndexError(key)\n\u001b[32m-> \u001b[39m\u001b[32m3819\u001b[39m     \u001b[38;5;28;01mraise\u001b[39;00m \u001b[38;5;167;01mKeyError\u001b[39;00m(key) \u001b[38;5;28;01mfrom\u001b[39;00m\u001b[38;5;250m \u001b[39m\u001b[34;01merr\u001b[39;00m\n\u001b[32m   3820\u001b[39m \u001b[38;5;28;01mexcept\u001b[39;00m \u001b[38;5;167;01mTypeError\u001b[39;00m:\n\u001b[32m   3821\u001b[39m     \u001b[38;5;66;03m# If we have a listlike key, _check_indexing_error will raise\u001b[39;00m\n\u001b[32m   3822\u001b[39m     \u001b[38;5;66;03m#  InvalidIndexError. Otherwise we fall through and re-raise\u001b[39;00m\n\u001b[32m   3823\u001b[39m     \u001b[38;5;66;03m#  the TypeError.\u001b[39;00m\n\u001b[32m   3824\u001b[39m     \u001b[38;5;28mself\u001b[39m._check_indexing_error(key)\n",
      "\u001b[31mKeyError\u001b[39m: 'branch-distance'"
     ]
    }
   ],
   "source": [
    "all_morphology_results = []\n",
    "all_skeletons = np.zeros_like(astrocyte_mask, dtype=np.uint8)\n",
    "all_sholl_results = []\n",
    "\n",
    "# Binarizamos el canal GFAP una sola vez para todos los análisis\n",
    "gfap_threshold = threshold_otsu(gfap_channel)\n",
    "binarized_gfap = gfap_channel > gfap_threshold\n",
    "\n",
    "print(\"Iniciando análisis morfológico para cada astrocito...\")\n",
    "for i, astro_id in enumerate(astrocyte_ids):\n",
    "    # --- 1. Aislar el astrocito y calcular propiedades básicas ---\n",
    "    single_astrocyte_mask_bool = (astrocyte_mask == astro_id)\n",
    "    single_astrocyte_mask_labeled = label(single_astrocyte_mask_bool)\n",
    "    props = regionprops(single_astrocyte_mask_labeled)[0]\n",
    "    volume_voxels = props.area\n",
    "    centroid_z, centroid_y, centroid_x = props.centroid\n",
    "    \n",
    "    # --- 2. Skeletonización y Análisis de Ramas ---\n",
    "    astrocyte_processes = binarized_gfap & single_astrocyte_mask_bool\n",
    "    total_length_um = 0\n",
    "    num_branches = 0\n",
    "    \n",
    "    # FIX 1: Comprobar si hay vóxeles para skeletonizar\n",
    "    if np.any(astrocyte_processes):\n",
    "        skeleton = skeletonize(astrocyte_processes).astype(np.uint8)\n",
    "        \n",
    "        # Comprobar si el esqueleto resultante no está vacío\n",
    "        if np.any(skeleton):\n",
    "            all_skeletons += skeleton * (i + 1)\n",
    "            \n",
    "            # FIX 2: Añadir el argumento 'separator' para silenciar la advertencia\n",
    "            branch_data = skan.summarize(\n",
    "                skan.Skeleton(skeleton, spacing=PHYSICAL_SCALE), \n",
    "                separator='_'\n",
    "            )\n",
    "            \n",
    "            total_length_um = branch_data['branch_distance'].sum()\n",
    "            num_branches = len(branch_data)\n",
    "\n",
    "    # --- 3. Análisis de Sholl ---\n",
    "    radii_um = np.arange(SHOLL_START_RADIUS_UM, SHOLL_END_RADIUS_UM, SHOLL_STEP_UM)\n",
    "    z, y, x = np.indices(astrocyte_mask.shape)\n",
    "    distances_um = np.sqrt(\n",
    "        ((z - centroid_z) * Z_SPACING_UM)**2 +\n",
    "        ((y - centroid_y) * PIXEL_HEIGHT_UM)**2 +\n",
    "        ((x - centroid_x) * PIXEL_WIDTH_UM)**2\n",
    "    )\n",
    "    for j, r_um in enumerate(radii_um):\n",
    "        r_inner_um = radii_um[j-1] if j > 0 else 0\n",
    "        shell_mask = (distances_um > r_inner_um) & (distances_um <= r_um)\n",
    "        intersection_mask = binarized_gfap & shell_mask\n",
    "        _, num_intersections = label(intersection_mask, return_num=True)\n",
    "        all_sholl_results.append({'label': astro_id, 'radius_um': r_um, 'intersections': num_intersections})\n",
    "\n",
    "    # --- 4. Cálculo del Territorio (Convex Hull) ---\n",
    "    points = np.argwhere(single_astrocyte_mask_bool)\n",
    "    territory_volume_um3 = 0\n",
    "    if len(points) > 3:\n",
    "        points_um = points * np.array(PHYSICAL_SCALE)\n",
    "        hull = ConvexHull(points_um)\n",
    "        territory_volume_um3 = hull.volume\n",
    "        \n",
    "    # --- 5. Consolidar resultados para este astrocito ---\n",
    "    all_morphology_results.append({\n",
    "        'label': astro_id,\n",
    "        'volume_um3': volume_voxels * VOXEL_VOLUME_UM3,\n",
    "        'total_process_length_um': total_length_um,\n",
    "        'num_branches': num_branches,\n",
    "        'territory_volume_um3': territory_volume_um3,\n",
    "        'sholl_max_intersections': pd.DataFrame(all_sholl_results).query(f'label == {astro_id}')['intersections'].max()\n",
    "    })\n",
    "    print(f\"Analizado astrocito {astro_id} ({i+1}/{len(astrocyte_ids)})\")\n",
    "\n",
    "# --- 6. Crear DataFrames finales ---\n",
    "morphology_df = pd.DataFrame(all_morphology_results)\n",
    "sholl_df = pd.DataFrame(all_sholl_results)\n",
    "\n",
    "# Guardamos la imagen con todos los esqueletos\n",
    "tifffile.imwrite(skeleton_output_dir / f\"{base_filename}_skeletons.tif\", all_skeletons)\n",
    "\n",
    "print(\"\\nAnálisis morfológico completado.\")\n",
    "display(morphology_df.head())"
   ]
  },
  {
   "cell_type": "markdown",
   "id": "4b7d77aa",
   "metadata": {},
   "source": [
    "## Paso 4: Glosario de Resultados\n",
    "\n",
    "A continuación se describe el significado de cada métrica calculada en la tabla `morphology_df`.\n",
    "\n",
    "* `label`: El identificador numérico único para cada astrocito.\n",
    "* `volume_um3`: **Volumen del Cuerpo Celular (µm³)**. Es el volumen del núcleo segmentado por Cellpose. No incluye los procesos.\n",
    "* `total_process_length_um`: **Longitud Total de Procesos (µm)**. La suma de las longitudes de todas las ramas del esqueleto. Mide la extensión total del \"cableado\" del astrocito.\n",
    "* `num_branches`: **Número de Ramas**. El número de segmentos que componen el esqueleto. Un mayor número sugiere una mayor complejidad.\n",
    "* `territory_volume_um3`: **Volumen del Territorio (µm³)**. El volumen de la envolvente convexa que encierra a toda la célula. Representa el espacio de influencia total del astrocito.\n",
    "* `sholl_max_intersections`: **Máximo de Intersecciones de Sholl**. El número pico de intersecciones encontradas en el análisis de Sholl, que indica la zona de mayor complejidad de ramificación."
   ]
  },
  {
   "cell_type": "markdown",
   "id": "dfb8083e",
   "metadata": {},
   "source": [
    "## Paso 5: Visualización de Resultados\n",
    "\n",
    "Visualizamos los resultados en Napari para una inspección cualitativa y creamos un gráfico de Sholl para un astrocito de ejemplo."
   ]
  },
  {
   "cell_type": "code",
   "execution_count": null,
   "id": "8083a15a",
   "metadata": {},
   "outputs": [
    {
     "name": "stdout",
     "output_type": "stream",
     "text": [
      "Iniciando análisis de Sholl...\n",
      "Análisis de Sholl completado.\n"
     ]
    },
    {
     "data": {
      "text/html": [
       "<div>\n",
       "<style scoped>\n",
       "    .dataframe tbody tr th:only-of-type {\n",
       "        vertical-align: middle;\n",
       "    }\n",
       "\n",
       "    .dataframe tbody tr th {\n",
       "        vertical-align: top;\n",
       "    }\n",
       "\n",
       "    .dataframe thead th {\n",
       "        text-align: right;\n",
       "    }\n",
       "</style>\n",
       "<table border=\"1\" class=\"dataframe\">\n",
       "  <thead>\n",
       "    <tr style=\"text-align: right;\">\n",
       "      <th></th>\n",
       "      <th>label</th>\n",
       "      <th>radius_um</th>\n",
       "      <th>intersections</th>\n",
       "    </tr>\n",
       "  </thead>\n",
       "  <tbody>\n",
       "    <tr>\n",
       "      <th>0</th>\n",
       "      <td>44</td>\n",
       "      <td>5.0</td>\n",
       "      <td>4</td>\n",
       "    </tr>\n",
       "    <tr>\n",
       "      <th>1</th>\n",
       "      <td>44</td>\n",
       "      <td>7.0</td>\n",
       "      <td>13</td>\n",
       "    </tr>\n",
       "    <tr>\n",
       "      <th>2</th>\n",
       "      <td>44</td>\n",
       "      <td>9.0</td>\n",
       "      <td>12</td>\n",
       "    </tr>\n",
       "    <tr>\n",
       "      <th>3</th>\n",
       "      <td>44</td>\n",
       "      <td>11.0</td>\n",
       "      <td>11</td>\n",
       "    </tr>\n",
       "    <tr>\n",
       "      <th>4</th>\n",
       "      <td>44</td>\n",
       "      <td>13.0</td>\n",
       "      <td>20</td>\n",
       "    </tr>\n",
       "  </tbody>\n",
       "</table>\n",
       "</div>"
      ],
      "text/plain": [
       "   label  radius_um  intersections\n",
       "0     44        5.0              4\n",
       "1     44        7.0             13\n",
       "2     44        9.0             12\n",
       "3     44       11.0             11\n",
       "4     44       13.0             20"
      ]
     },
     "metadata": {},
     "output_type": "display_data"
    }
   ],
   "source": [
    "# Cargamos los esqueletos que guardamos\n",
    "skeletons_img = tifffile.imread(skeleton_output_dir / f\"{base_filename}_skeletons.tif\")\n",
    "\n",
    "viewer = napari.Viewer()\n",
    "# Añadimos el canal GFAP y la máscara de astrocitos\n",
    "viewer.add_image(gfap_channel, name='GFAP', colormap='green', scale=PHYSICAL_SCALE)\n",
    "viewer.add_labels(astrocyte_mask, name='Astrocitos', scale=PHYSICAL_SCALE, opacity=0.3)\n",
    "# Añadimos los esqueletos 3D\n",
    "viewer.add_labels(skeletons_img, name='Esqueletos 3D', scale=PHYSICAL_SCALE)\n",
    "\n",
    "# --- Gráfico de Sholl para un astrocito de ejemplo ---\n",
    "if not sholl_df.empty:\n",
    "    astrocyte_to_plot = morphology_df['label'].iloc[0]\n",
    "    sholl_subset = sholl_df[sholl_df['label'] == astrocyte_to_plot]\n",
    "    \n",
    "    plt.figure(figsize=(8, 6))\n",
    "    plt.plot(sholl_subset['radius_um'], sholl_subset['intersections'], marker='o', linestyle='-')\n",
    "    plt.title(f'Análisis de Sholl para Astrocito #{astrocyte_to_plot}')\n",
    "    plt.xlabel('Radio desde el Centroide (µm)')\n",
    "    plt.ylabel('Número de Intersecciones')\n",
    "    plt.grid(True)\n",
    "    plt.show()"
   ]
  },
  {
   "cell_type": "markdown",
   "id": "f4ac28d1",
   "metadata": {},
   "source": [
    "## Paso 5: Guardado de Resultados Cuantitativos\n",
    "\n",
    "Ahora guardamos ambos DataFrames (la cuantificación básica y el análisis de Sholl detallado) en archivos CSV."
   ]
  },
  {
   "cell_type": "code",
   "execution_count": 18,
   "id": "4a132cea",
   "metadata": {},
   "outputs": [
    {
     "name": "stdout",
     "output_type": "stream",
     "text": [
      "Resultados de cuantificación guardados en: /home/daniel/Proyectos/astrocitos-3d-analysis/results/tables/Inmuno 26-07-23.lif - CTL 1-2 a_quantification.csv\n",
      "Resultados del análisis de Sholl guardados en: /home/daniel/Proyectos/astrocitos-3d-analysis/results/tables/Inmuno 26-07-23.lif - CTL 1-2 a_sholl_analysis.csv\n"
     ]
    }
   ],
   "source": [
    "if 'quant_df' in locals() and not quant_df.empty:\n",
    "    quant_df.to_csv(quantification_output_path, index=False)\n",
    "    print(f\"Resultados de cuantificación guardados en: {quantification_output_path}\")\n",
    "\n",
    "if 'sholl_df' in locals() and not sholl_df.empty:\n",
    "    sholl_df.to_csv(sholl_output_path, index=False)\n",
    "    print(f\"Resultados del análisis de Sholl guardados en: {sholl_output_path}\")"
   ]
  },
  {
   "cell_type": "markdown",
   "id": "fa434403",
   "metadata": {},
   "source": [
    "## Paso 6: Guardado Final de Datos\n",
    "\n",
    "Guardamos la tabla morfológica completa y los datos detallados de Sholl en archivos CSV separados."
   ]
  },
  {
   "cell_type": "code",
   "execution_count": null,
   "id": "7ed86367",
   "metadata": {},
   "outputs": [],
   "source": [
    "if 'morphology_df' in locals() and not morphology_df.empty:\n",
    "    morphology_df.to_csv(morphology_output_path, index=False)\n",
    "    print(f\"Resultados morfológicos guardados en: {morphology_output_path}\")\n",
    "\n",
    "if 'sholl_df' in locals() and not sholl_df.empty:\n",
    "    sholl_df.to_csv(sholl_output_path, index=False)\n",
    "    print(f\"Resultados del análisis de Sholl guardados en: {sholl_output_path}\")"
   ]
  }
 ],
 "metadata": {
  "kernelspec": {
   "display_name": "venv",
   "language": "python",
   "name": "python3"
  },
  "language_info": {
   "codemirror_mode": {
    "name": "ipython",
    "version": 3
   },
   "file_extension": ".py",
   "mimetype": "text/x-python",
   "name": "python",
   "nbconvert_exporter": "python",
   "pygments_lexer": "ipython3",
   "version": "3.12.3"
  }
 },
 "nbformat": 4,
 "nbformat_minor": 5
}
