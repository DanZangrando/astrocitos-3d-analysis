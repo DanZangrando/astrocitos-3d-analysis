{
 "cells": [
  {
   "cell_type": "markdown",
   "id": "0564528b",
   "metadata": {},
   "source": [
    "# Cuaderno 02: Análisis Morfológico Integral de Astrocitos\n",
    "\n",
    "**Objetivo:** Este cuaderno carga las máscaras de astrocitos previamente segmentadas y realiza un análisis cuantitativo completo para caracterizar su morfología y complejidad estructural. El flujo de trabajo está diseñado para ser reproducible y para extraer las métricas clave definidas en el protocolo de análisis.\n",
    "\n",
    "**Flujo de Trabajo:**\n",
    "1.  **Configuración**: Definir rutas, parámetros de calibración y análisis.\n",
    "2.  **Carga de Datos**: Cargar la máscara de astrocitos y el canal GFAP original.\n",
    "3.  **Análisis Morfológico por Astrocito**: Iterar sobre cada astrocito para calcular:\n",
    "    * Propiedades del protocolo: Volumen GFAP e intensidad media.\n",
    "    * Propiedades morfológicas: Volumen del núcleo y territorio celular (envolvente convexa).\n",
    "    * Análisis de complejidad: Esqueletonización 3D, longitud y número de ramas.\n",
    "    * Análisis de Sholl para medir la complejidad radial.\n",
    "4.  **Consolidación y Guardado**: Agrupar todos los resultados en tablas y exportarlos.\n",
    "5.  **Visualización**: Mostrar los resultados de forma interactiva en Napari y con gráficos.\n"
   ]
  },
  {
   "cell_type": "markdown",
   "id": "2541bd26",
   "metadata": {},
   "source": [
    "## Paso 0: Activar el Backend Gráfico y Dependencias\n",
    "\n",
    "**Importante:** Ejecuta esta celda una sola vez por sesión. El comando mágico `%gui qt` prepara el entorno para mostrar ventanas interactivas como las de Napari. También nos aseguramos de que la librería `skan`, necesaria para el análisis de esqueletos, esté instalada.\n"
   ]
  },
  {
   "cell_type": "code",
   "execution_count": 2,
   "id": "3fd1fbf2",
   "metadata": {},
   "outputs": [
    {
     "name": "stdout",
     "output_type": "stream",
     "text": [
      "Note: you may need to restart the kernel to use updated packages.\n"
     ]
    }
   ],
   "source": [
    "%gui qt\n",
    "%pip install skan --quiet"
   ]
  },
  {
   "cell_type": "markdown",
   "id": "b39d2d28",
   "metadata": {},
   "source": [
    "## Paso 1: Configuración de Rutas y Parámetros\n",
    "\n",
    "Esta celda centraliza todas las variables que controlan el flujo de trabajo. Definir los parámetros aquí permite ajustar fácilmente el análisis para diferentes imágenes sin modificar el código en las celdas posteriores.\n",
    "\n",
    "* **Rutas de Archivos**: Se definen las rutas de la imagen original y de la máscara de astrocitos generada en el Cuaderno 01. También se especifican las carpetas de salida para los resultados.\n",
    "* **Calibración Física**: Los parámetros `PIXEL_WIDTH_UM`, `PIXEL_HEIGHT_UM` y `Z_SPACING_UM` son cruciales. Convierten las mediciones de vóxeles a unidades físicas (micrómetros, µm), asegurando que los resultados sean científicamente válidos y comparables entre experimentos.\n",
    "* **Parámetros de Análisis**: Se definen los radios y el tamaño del paso para el análisis de Sholl.\n"
   ]
  },
  {
   "cell_type": "code",
   "execution_count": 3,
   "id": "8160fb51",
   "metadata": {},
   "outputs": [],
   "source": [
    "from pathlib import Path\n",
    "\n",
    "# --- Rutas de Archivos de Entrada ---\n",
    "project_root = Path.cwd().parent\n",
    "base_filename = \"Inmuno 26-07-23.lif - CTL 1-2 a\"\n",
    "subfolder = \"CTL/CTL 1-2\"\n",
    "original_image_path = project_root / f\"data/raw/{subfolder}/{base_filename}.tif\"\n",
    "final_mask_path = project_root / f\"data/processed/{base_filename}/04_final_astrocytes_mask.tif\"\n",
    "\n",
    "# --- Rutas de Archivos de Salida ---\n",
    "results_dir = project_root / \"results/tables\"\n",
    "results_dir.mkdir(parents=True, exist_ok=True)\n",
    "morphology_output_path = results_dir / f\"{base_filename}_full_morphology.csv\"\n",
    "sholl_output_path = results_dir / f\"{base_filename}_sholl_analysis.csv\"\n",
    "skeleton_output_dir = project_root / \"data/processed\" / base_filename / \"skeletons\"\n",
    "skeleton_output_dir.mkdir(parents=True, exist_ok=True)\n",
    "\n",
    "# --- Parámetros de Calibración Física (µm)---\n",
    "PIXEL_WIDTH_UM = 0.3788\n",
    "PIXEL_HEIGHT_UM = 0.3788\n",
    "Z_SPACING_UM = 1.0071\n",
    "VOXEL_VOLUME_UM3 = PIXEL_WIDTH_UM * PIXEL_HEIGHT_UM * Z_SPACING_UM\n",
    "PHYSICAL_SCALE = (Z_SPACING_UM, PIXEL_HEIGHT_UM, PIXEL_WIDTH_UM)\n",
    "\n",
    "# --- Parámetros para el Análisis de Sholl ---\n",
    "SHOLL_START_RADIUS_UM = 5.0\n",
    "SHOLL_END_RADIUS_UM = 50.0\n",
    "SHOLL_STEP_UM = 2.0"
   ]
  },
  {
   "cell_type": "markdown",
   "id": "28fbd221",
   "metadata": {},
   "source": [
    "## Paso 2: Importación de Librerías y Carga de Datos\n",
    "\n",
    "En esta sección, importamos todas las librerías de Python necesarias para el análisis. Luego, cargamos en memoria la máscara de astrocitos final y el canal GFAP de la imagen original. Un `try-except` se asegura de que el script se detenga con un mensaje claro si los archivos de entrada no se encuentran.\n"
   ]
  },
  {
   "cell_type": "code",
   "execution_count": 4,
   "id": "76557f87",
   "metadata": {},
   "outputs": [
    {
     "name": "stdout",
     "output_type": "stream",
     "text": [
      "Datos cargados. Se analizarán 88 astrocitos.\n"
     ]
    }
   ],
   "source": [
    "import tifffile\n",
    "import numpy as np\n",
    "import pandas as pd\n",
    "from skimage.measure import regionprops, label\n",
    "from skimage.morphology import skeletonize, remove_small_objects\n",
    "from skimage.filters import threshold_otsu\n",
    "from scipy.spatial import ConvexHull\n",
    "import skan\n",
    "import napari\n",
    "import matplotlib.pyplot as plt\n",
    "\n",
    "try:\n",
    "    astrocyte_mask = tifffile.imread(final_mask_path)\n",
    "    original_image = tifffile.imread(original_image_path)\n",
    "    gfap_channel = original_image[:, 1, :, :]\n",
    "    astrocyte_ids = np.unique(astrocyte_mask)[1:]\n",
    "    print(f\"Datos cargados. Se analizarán {len(astrocyte_ids)} astrocitos.\")\n",
    "except FileNotFoundError:\n",
    "    print(\"Error: No se encontraron archivos. Asegúrate de haber ejecutado el cuaderno 01 primero.\")"
   ]
  },
  {
   "cell_type": "markdown",
   "id": "6d329d0f",
   "metadata": {},
   "source": [
    "## Paso 3: Metodología del Análisis Morfológico\n",
    "\n",
    "El siguiente bloque de código es el núcleo del análisis. Itera sobre cada astrocito identificado en la máscara y realiza una serie de mediciones:\n",
    "\n",
    "1.  **Aislamiento y Binarización**: Para cada `astro_id`, se aísla su máscara individual. Paralelamente, el canal GFAP completo se binariza usando el umbral de Otsu para separar la señal del fondo de manera objetiva. La intersección de la máscara individual con la señal GFAP binarizada nos da los procesos específicos de ese astrocito (`astrocyte_processes`).\n",
    "\n",
    "2.  **Análisis de Procesos (Esqueletonización)**:\n",
    "    * Se aplica la función `skeletonize` a los procesos del astrocito para obtener una representación de 1 píxel de grosor, similar a un \"diagrama de cableado\".\n",
    "    * **Paso Crítico de Limpieza**: Se utiliza `remove_small_objects` para eliminar píxeles aislados del esqueleto. Esto es fundamental para prevenir errores en la librería `skan`, que requiere ramas de al menos 2 píxeles conectados.\n",
    "    * `skan.summarize` analiza el esqueleto limpio para calcular la **longitud total de los procesos** y el **número de ramas**, métricas clave de la complejidad celular.\n",
    "\n",
    "3.  **Mediciones del Protocolo**:\n",
    "    * **Volumen GFAP**: Se calcula sumando todos los vóxeles dentro de `astrocyte_processes` y convirtiendo a µm³. Esto corresponde a la métrica \"Área GFAP\" del protocolo manual.\n",
    "    * **Intensidad Media GFAP**: Se calcula la intensidad promedio del canal GFAP original únicamente dentro de los vóxeles de `astrocyte_processes`, cumpliendo con otro requisito del protocolo.\n",
    "\n",
    "4.  **Análisis de Sholl y Territorio**:\n",
    "    * El **análisis de Sholl** mide la complejidad radial contando cuántas veces los procesos del astrocito cruzan esferas concéntricas de radios crecientes, centradas en el núcleo.\n",
    "    * El **Volumen del Territorio** se calcula mediante una \"envolvente convexa\" (Convex Hull), que es la forma 3D más pequeña que encierra todos los procesos del astrocito, representando su dominio espacial total.\n"
   ]
  },
  {
   "cell_type": "markdown",
   "id": "dedf6350",
   "metadata": {},
   "source": [
    "## Paso 4: Ejecución del Análisis Morfológico"
   ]
  },
  {
   "cell_type": "code",
   "execution_count": 8,
   "id": "067b6834",
   "metadata": {},
   "outputs": [
    {
     "name": "stdout",
     "output_type": "stream",
     "text": [
      "Iniciando análisis morfológico para cada astrocito...\n",
      "Analizado astrocito 26 (1/88)\n",
      "Analizado astrocito 27 (2/88)\n",
      "Analizado astrocito 44 (3/88)\n",
      "Analizado astrocito 111 (4/88)\n",
      "Analizado astrocito 124 (5/88)\n",
      "Analizado astrocito 133 (6/88)\n",
      "Analizado astrocito 136 (7/88)\n",
      "Analizado astrocito 137 (8/88)\n",
      "Analizado astrocito 138 (9/88)\n",
      "Analizado astrocito 140 (10/88)\n",
      "Analizado astrocito 141 (11/88)\n",
      "Analizado astrocito 142 (12/88)\n",
      "Analizado astrocito 145 (13/88)\n",
      "Analizado astrocito 146 (14/88)\n",
      "Analizado astrocito 149 (15/88)\n",
      "Analizado astrocito 150 (16/88)\n",
      "Analizado astrocito 152 (17/88)\n",
      "Analizado astrocito 156 (18/88)\n",
      "Analizado astrocito 158 (19/88)\n",
      "Analizado astrocito 159 (20/88)\n",
      "Analizado astrocito 161 (21/88)\n",
      "Analizado astrocito 163 (22/88)\n",
      "Analizado astrocito 166 (23/88)\n",
      "Analizado astrocito 167 (24/88)\n",
      "Analizado astrocito 168 (25/88)\n",
      "Analizado astrocito 171 (26/88)\n",
      "Analizado astrocito 173 (27/88)\n",
      "Analizado astrocito 176 (28/88)\n",
      "Analizado astrocito 177 (29/88)\n",
      "Analizado astrocito 178 (30/88)\n",
      "Analizado astrocito 179 (31/88)\n",
      "Analizado astrocito 180 (32/88)\n",
      "Analizado astrocito 182 (33/88)\n",
      "Analizado astrocito 185 (34/88)\n",
      "Analizado astrocito 187 (35/88)\n",
      "Analizado astrocito 188 (36/88)\n",
      "Analizado astrocito 189 (37/88)\n",
      "Analizado astrocito 190 (38/88)\n",
      "Analizado astrocito 193 (39/88)\n",
      "Analizado astrocito 198 (40/88)\n",
      "Analizado astrocito 199 (41/88)\n",
      "Analizado astrocito 200 (42/88)\n",
      "Analizado astrocito 202 (43/88)\n",
      "Analizado astrocito 204 (44/88)\n",
      "Analizado astrocito 205 (45/88)\n",
      "Analizado astrocito 206 (46/88)\n",
      "Analizado astrocito 207 (47/88)\n",
      "Analizado astrocito 208 (48/88)\n",
      "Analizado astrocito 212 (49/88)\n",
      "Analizado astrocito 213 (50/88)\n",
      "Analizado astrocito 215 (51/88)\n",
      "Analizado astrocito 216 (52/88)\n",
      "Analizado astrocito 217 (53/88)\n",
      "Analizado astrocito 218 (54/88)\n",
      "Analizado astrocito 221 (55/88)\n",
      "Analizado astrocito 222 (56/88)\n",
      "Analizado astrocito 224 (57/88)\n",
      "Analizado astrocito 227 (58/88)\n",
      "Analizado astrocito 229 (59/88)\n",
      "Analizado astrocito 230 (60/88)\n",
      "Analizado astrocito 238 (61/88)\n",
      "Analizado astrocito 239 (62/88)\n",
      "Analizado astrocito 250 (63/88)\n",
      "Analizado astrocito 252 (64/88)\n",
      "Analizado astrocito 253 (65/88)\n",
      "Analizado astrocito 254 (66/88)\n",
      "Analizado astrocito 255 (67/88)\n",
      "Analizado astrocito 263 (68/88)\n",
      "Analizado astrocito 264 (69/88)\n",
      "Analizado astrocito 265 (70/88)\n",
      "Analizado astrocito 266 (71/88)\n",
      "Analizado astrocito 267 (72/88)\n",
      "Analizado astrocito 268 (73/88)\n",
      "Analizado astrocito 274 (74/88)\n",
      "Analizado astrocito 281 (75/88)\n",
      "Analizado astrocito 282 (76/88)\n",
      "Analizado astrocito 283 (77/88)\n",
      "Analizado astrocito 291 (78/88)\n",
      "Analizado astrocito 295 (79/88)\n",
      "Analizado astrocito 296 (80/88)\n",
      "Analizado astrocito 297 (81/88)\n",
      "Analizado astrocito 298 (82/88)\n",
      "Analizado astrocito 299 (83/88)\n",
      "Analizado astrocito 302 (84/88)\n",
      "Analizado astrocito 303 (85/88)\n",
      "Analizado astrocito 309 (86/88)\n",
      "Analizado astrocito 310 (87/88)\n",
      "Analizado astrocito 322 (88/88)\n",
      "\n",
      "Análisis morfológico completado.\n"
     ]
    }
   ],
   "source": [
    "# Paso 4: Ejecución del Análisis Morfológico\n",
    "\n",
    "all_morphology_results = []\n",
    "all_skeletons = np.zeros_like(astrocyte_mask, dtype=np.uint8)\n",
    "all_sholl_results = []\n",
    "\n",
    "# Binarizamos el canal GFAP una sola vez para todos los análisis\n",
    "gfap_threshold = threshold_otsu(gfap_channel)\n",
    "binarized_gfap = gfap_channel > gfap_threshold\n",
    "\n",
    "print(\"Iniciando análisis morfológico para cada astrocito...\")\n",
    "for i, astro_id in enumerate(astrocyte_ids):\n",
    "    # --- 1. Aislar el astrocito y calcular propiedades básicas ---\n",
    "    single_astrocyte_mask_bool = (astrocyte_mask == astro_id)\n",
    "    props = regionprops(single_astrocyte_mask_bool.astype(np.uint8))[0]\n",
    "    \n",
    "    nucleus_volume_voxels = props.area\n",
    "    centroid_z, centroid_y, centroid_x = props.centroid\n",
    "    \n",
    "    # --- 2. Skeletonización y Análisis de Ramas ---\n",
    "    astrocyte_processes = binarized_gfap & single_astrocyte_mask_bool\n",
    "    total_length_um = 0\n",
    "    num_branches = 0\n",
    "    \n",
    "    if np.any(astrocyte_processes):\n",
    "        skeleton_with_dust = skeletonize(astrocyte_processes)\n",
    "        skeleton = remove_small_objects(skeleton_with_dust, min_size=2, connectivity=1)\n",
    "\n",
    "        if np.any(skeleton):\n",
    "            skeleton_uint8 = skeleton.astype(np.uint8)\n",
    "            all_skeletons += skeleton_uint8 * (i + 1)\n",
    "            \n",
    "            # Para silenciar la advertencia y asegurar compatibilidad, se añade separator='-'\n",
    "            branch_data = skan.summarize(skan.Skeleton(skeleton_uint8, spacing=PHYSICAL_SCALE), separator='-')\n",
    "            \n",
    "            # CORRECCIÓN: Volvemos a 'branch-distance' para tu versión de skan\n",
    "            total_length_um = branch_data['branch-distance'].sum()\n",
    "            num_branches = len(branch_data)\n",
    "\n",
    "    # --- 3. Mediciones del Protocolo (Volumen e Intensidad GFAP) ---\n",
    "    gfap_volume_voxels = np.sum(astrocyte_processes)\n",
    "    mean_gfap_intensity = 0\n",
    "    if gfap_volume_voxels > 0:\n",
    "        mean_gfap_intensity = np.mean(gfap_channel[astrocyte_processes])\n",
    "\n",
    "    # --- 4. Análisis de Sholl ---\n",
    "    radii_um = np.arange(SHOLL_START_RADIUS_UM, SHOLL_END_RADIUS_UM, SHOLL_STEP_UM)\n",
    "    z, y, x = np.indices(astrocyte_mask.shape)\n",
    "    distances_um = np.sqrt(\n",
    "        ((z - centroid_z) * Z_SPACING_UM)**2 +\n",
    "        ((y - centroid_y) * PIXEL_HEIGHT_UM)**2 +\n",
    "        ((x - centroid_x) * PIXEL_WIDTH_UM)**2\n",
    "    )\n",
    "    for j, r_um in enumerate(radii_um):\n",
    "        r_inner_um = radii_um[j-1] if j > 0 else 0\n",
    "        shell_mask = (distances_um > r_inner_um) & (distances_um <= r_um)\n",
    "        intersection_mask = astrocyte_processes & shell_mask\n",
    "        _, num_intersections = label(intersection_mask, return_num=True)\n",
    "        all_sholl_results.append({'label': astro_id, 'radius_um': r_um, 'intersections': num_intersections})\n",
    "\n",
    "    # --- 5. Cálculo del Territorio (Convex Hull) ---\n",
    "    points = np.argwhere(single_astrocyte_mask_bool)\n",
    "    territory_volume_um3 = 0\n",
    "    if len(points) > 3:\n",
    "        points_um = points * np.array(PHYSICAL_SCALE)\n",
    "        hull = ConvexHull(points_um)\n",
    "        territory_volume_um3 = hull.volume\n",
    "        \n",
    "    # --- 6. Consolidar resultados para este astrocito ---\n",
    "    sholl_max = 0\n",
    "    sholl_results_for_astro = [res['intersections'] for res in all_sholl_results if res['label'] == astro_id]\n",
    "    if sholl_results_for_astro:\n",
    "        sholl_max = max(sholl_results_for_astro)\n",
    "\n",
    "    all_morphology_results.append({\n",
    "        'label': astro_id,\n",
    "        'nucleus_volume_um3': nucleus_volume_voxels * VOXEL_VOLUME_UM3,\n",
    "        'gfap_volume_um3': gfap_volume_voxels * VOXEL_VOLUME_UM3,\n",
    "        'mean_gfap_intensity': mean_gfap_intensity,\n",
    "        'total_process_length_um': total_length_um,\n",
    "        'num_branches': num_branches,\n",
    "        'territory_volume_um3': territory_volume_um3,\n",
    "        'sholl_max_intersections': sholl_max\n",
    "    })\n",
    "    print(f\"Analizado astrocito {astro_id} ({i+1}/{len(astrocyte_ids)})\")\n",
    "\n",
    "print(\"\\nAnálisis morfológico completado.\")"
   ]
  },
  {
   "cell_type": "markdown",
   "id": "f17a9f5b",
   "metadata": {},
   "source": [
    "## Paso 5: Consolidación de Resultados\n",
    "\n",
    "Los resultados, que se han ido acumulando en listas, se convierten ahora en DataFrames de `pandas` para facilitar su visualización y guardado. También guardamos la imagen que contiene todos los esqueletos generados.\n"
   ]
  },
  {
   "cell_type": "code",
   "execution_count": 9,
   "id": "deef093e",
   "metadata": {},
   "outputs": [
    {
     "name": "stdout",
     "output_type": "stream",
     "text": [
      "Resumen de los resultados morfológicos:\n"
     ]
    },
    {
     "data": {
      "text/html": [
       "<div>\n",
       "<style scoped>\n",
       "    .dataframe tbody tr th:only-of-type {\n",
       "        vertical-align: middle;\n",
       "    }\n",
       "\n",
       "    .dataframe tbody tr th {\n",
       "        vertical-align: top;\n",
       "    }\n",
       "\n",
       "    .dataframe thead th {\n",
       "        text-align: right;\n",
       "    }\n",
       "</style>\n",
       "<table border=\"1\" class=\"dataframe\">\n",
       "  <thead>\n",
       "    <tr style=\"text-align: right;\">\n",
       "      <th></th>\n",
       "      <th>label</th>\n",
       "      <th>nucleus_volume_um3</th>\n",
       "      <th>gfap_volume_um3</th>\n",
       "      <th>mean_gfap_intensity</th>\n",
       "      <th>total_process_length_um</th>\n",
       "      <th>num_branches</th>\n",
       "      <th>territory_volume_um3</th>\n",
       "      <th>sholl_max_intersections</th>\n",
       "    </tr>\n",
       "  </thead>\n",
       "  <tbody>\n",
       "    <tr>\n",
       "      <th>0</th>\n",
       "      <td>26</td>\n",
       "      <td>96.820504</td>\n",
       "      <td>0.144508</td>\n",
       "      <td>85.000000</td>\n",
       "      <td>0.000000</td>\n",
       "      <td>0</td>\n",
       "      <td>81.020939</td>\n",
       "      <td>1</td>\n",
       "    </tr>\n",
       "    <tr>\n",
       "      <th>1</th>\n",
       "      <td>27</td>\n",
       "      <td>115.317556</td>\n",
       "      <td>0.000000</td>\n",
       "      <td>0.000000</td>\n",
       "      <td>0.000000</td>\n",
       "      <td>0</td>\n",
       "      <td>96.386979</td>\n",
       "      <td>0</td>\n",
       "    </tr>\n",
       "    <tr>\n",
       "      <th>2</th>\n",
       "      <td>44</td>\n",
       "      <td>229.912570</td>\n",
       "      <td>21.387216</td>\n",
       "      <td>158.351351</td>\n",
       "      <td>1.136400</td>\n",
       "      <td>2</td>\n",
       "      <td>205.779698</td>\n",
       "      <td>3</td>\n",
       "    </tr>\n",
       "    <tr>\n",
       "      <th>3</th>\n",
       "      <td>111</td>\n",
       "      <td>204.045600</td>\n",
       "      <td>9.537542</td>\n",
       "      <td>100.000000</td>\n",
       "      <td>5.020887</td>\n",
       "      <td>4</td>\n",
       "      <td>259.729432</td>\n",
       "      <td>5</td>\n",
       "    </tr>\n",
       "    <tr>\n",
       "      <th>4</th>\n",
       "      <td>124</td>\n",
       "      <td>90.462143</td>\n",
       "      <td>0.000000</td>\n",
       "      <td>0.000000</td>\n",
       "      <td>0.000000</td>\n",
       "      <td>0</td>\n",
       "      <td>85.067169</td>\n",
       "      <td>0</td>\n",
       "    </tr>\n",
       "  </tbody>\n",
       "</table>\n",
       "</div>"
      ],
      "text/plain": [
       "   label  nucleus_volume_um3  gfap_volume_um3  mean_gfap_intensity  \\\n",
       "0     26           96.820504         0.144508            85.000000   \n",
       "1     27          115.317556         0.000000             0.000000   \n",
       "2     44          229.912570        21.387216           158.351351   \n",
       "3    111          204.045600         9.537542           100.000000   \n",
       "4    124           90.462143         0.000000             0.000000   \n",
       "\n",
       "   total_process_length_um  num_branches  territory_volume_um3  \\\n",
       "0                 0.000000             0             81.020939   \n",
       "1                 0.000000             0             96.386979   \n",
       "2                 1.136400             2            205.779698   \n",
       "3                 5.020887             4            259.729432   \n",
       "4                 0.000000             0             85.067169   \n",
       "\n",
       "   sholl_max_intersections  \n",
       "0                        1  \n",
       "1                        0  \n",
       "2                        3  \n",
       "3                        5  \n",
       "4                        0  "
      ]
     },
     "metadata": {},
     "output_type": "display_data"
    }
   ],
   "source": [
    "# Crear DataFrames finales a partir de las listas de resultados\n",
    "morphology_df = pd.DataFrame(all_morphology_results)\n",
    "sholl_df = pd.DataFrame(all_sholl_results)\n",
    "\n",
    "# Guardar la imagen con todos los esqueletos para su posterior visualización\n",
    "tifffile.imwrite(skeleton_output_dir / f\"{base_filename}_skeletons.tif\", all_skeletons)\n",
    "\n",
    "print(\"Resumen de los resultados morfológicos:\")\n",
    "display(morphology_df.head())"
   ]
  },
  {
   "cell_type": "markdown",
   "id": "1c3b8d62",
   "metadata": {},
   "source": [
    "## Paso 6: Glosario de Resultados Cuantitativos\n",
    "\n",
    "A continuación se describe el significado de cada métrica calculada en la tabla `morphology_df`.\n",
    "\n",
    "* `label`: El identificador numérico único para cada astrocito.\n",
    "* `nucleus_volume_um3`: **Volumen del Núcleo (µm³)**. El volumen del núcleo DAPI-positivo, segmentado por Cellpose en el cuaderno anterior.\n",
    "* `gfap_volume_um3`: **Volumen GFAP (µm³)**. El volumen 3D total de la señal GFAP asociada al astrocito. Es el equivalente 3D de la \"Área GFAP\" del protocolo.\n",
    "* `mean_gfap_intensity`: **Intensidad Media de GFAP**. La intensidad de fluorescencia promedio dentro del volumen GFAP del astrocito.\n",
    "* `total_process_length_um`: **Longitud Total de Procesos (µm)**. La suma de las longitudes de todas las ramas del esqueleto, una medida de la extensión total del astrocito.\n",
    "* `num_branches`: **Número de Ramas**. El número de segmentos que componen el esqueleto, indicando la complejidad de la ramificación.\n",
    "* `territory_volume_um3`: **Volumen del Territorio (µm³)**. El volumen de la envolvente convexa que encierra a toda la célula, representando su dominio espacial total.\n",
    "* `sholl_max_intersections`: **Máximo de Intersecciones de Sholl**. El número pico de intersecciones del análisis de Sholl, que indica la zona de mayor complejidad de ramificación.\n"
   ]
  },
  {
   "cell_type": "markdown",
   "id": "cc166d65",
   "metadata": {},
   "source": [
    "## Paso 7: Visualización de Resultados\n",
    "\n",
    "La visualización es un paso fundamental para validar los resultados.\n",
    "\n",
    "* **Napari (Visualización 3D)**: Lanzamos un visor interactivo para inspeccionar cualitativamente los resultados. Podemos superponer el canal GFAP original, las máscaras de los astrocitos y sus esqueletos 3D calculados, todo calibrado a su escala física real.\n",
    "* **Matplotlib (Gráfico de Sholl)**: Creamos un gráfico 2D del análisis de Sholl para un astrocito de ejemplo. Esto permite visualizar cuantitativamente cómo cambia la complejidad de sus ramificaciones a medida que nos alejamos del centro de la célula.\n"
   ]
  },
  {
   "cell_type": "code",
   "execution_count": 10,
   "id": "129eabf1",
   "metadata": {},
   "outputs": [
    {
     "name": "stderr",
     "output_type": "stream",
     "text": [
      "07-Sep-25 13:52:27 - bfio.backends - WARNING  - Java backend is not available. This could be due to a missing dependency (jpype).\n",
      "/home/daniel/Proyectos/astrocitos-3d-analysis/venv/lib/python3.12/site-packages/npe2/manifest/_npe1_adapter.py:87: UserWarning: Error importing contributions for first-generation napari plugin 'bfio': cannot import name 'cbuffer_sizes' from 'numcodecs.blosc' (/home/daniel/Proyectos/astrocitos-3d-analysis/venv/lib/python3.12/site-packages/numcodecs/blosc.cpython-312-x86_64-linux-gnu.so)\n",
      "  self._load_contributions()\n"
     ]
    },
    {
     "data": {
      "text/plain": [
       "<Labels layer 'Esqueletos 3D' at 0x7cacf9f8c290>"
      ]
     },
     "execution_count": 10,
     "metadata": {},
     "output_type": "execute_result"
    }
   ],
   "source": [
    "# Cargar la imagen de esqueletos recién guardada\n",
    "skeletons_img = tifffile.imread(skeleton_output_dir / f\"{base_filename}_skeletons.tif\")\n",
    "\n",
    "# Iniciar el visor de Napari\n",
    "viewer = napari.Viewer()\n",
    "\n",
    "# Añadir capas a Napari: canal original, máscaras y esqueletos\n",
    "viewer.add_image(gfap_channel, name='GFAP', colormap='green', scale=PHYSICAL_SCALE)\n",
    "viewer.add_labels(astrocyte_mask, name='Astrocitos', scale=PHYSICAL_SCALE, opacity=0.3)\n",
    "viewer.add_labels(skeletons_img, name='Esqueletos 3D', scale=PHYSICAL_SCALE)"
   ]
  },
  {
   "cell_type": "code",
   "execution_count": 11,
   "id": "b7d2fbcf",
   "metadata": {},
   "outputs": [
    {
     "data": {
      "image/png": "[encoded data removed]",
      "text/plain": [
       "<Figure size 800x600 with 1 Axes>"
      ]
     },
     "metadata": {},
     "output_type": "display_data"
    }
   ],
   "source": [
    "# --- Gráfico de Sholl para un astrocito de ejemplo ---\n",
    "if not morphology_df.empty and not sholl_df.empty:\n",
    "    # Seleccionar el primer astrocito de la tabla para graficar\n",
    "    astrocyte_to_plot = morphology_df['label'].iloc[0]\n",
    "    sholl_subset = sholl_df[sholl_df['label'] == astrocyte_to_plot]\n",
    "    \n",
    "    # Crear el gráfico\n",
    "    plt.figure(figsize=(8, 6))\n",
    "    plt.plot(sholl_subset['radius_um'], sholl_subset['intersections'], marker='o', linestyle='-')\n",
    "    plt.title(f'Análisis de Sholl para Astrocito #{astrocyte_to_plot}')\n",
    "    plt.xlabel('Radio desde el Centroide (µm)')\n",
    "    plt.ylabel('Número de Intersecciones')\n",
    "    plt.grid(True)\n",
    "    plt.show()"
   ]
  },
  {
   "cell_type": "markdown",
   "id": "73756ad8",
   "metadata": {},
   "source": [
    "## Paso 8: Guardado Final de Resultados\n",
    "\n",
    "Finalmente, guardamos las tablas completas con los resultados cuantitativos en archivos de formato CSV. Estos archivos se pueden abrir fácilmente en Excel, R, o cualquier otro software de análisis estadístico para realizar comparaciones entre diferentes condiciones experimentales.\n"
   ]
  },
  {
   "cell_type": "code",
   "execution_count": 12,
   "id": "d0598399",
   "metadata": {},
   "outputs": [
    {
     "name": "stdout",
     "output_type": "stream",
     "text": [
      "Resultados morfológicos guardados en: /home/daniel/Proyectos/astrocitos-3d-analysis/results/tables/Inmuno 26-07-23.lif - CTL 1-2 a_full_morphology.csv\n",
      "Resultados del análisis de Sholl guardados en: /home/daniel/Proyectos/astrocitos-3d-analysis/results/tables/Inmuno 26-07-23.lif - CTL 1-2 a_sholl_analysis.csv\n"
     ]
    }
   ],
   "source": [
    "# Guardar la tabla con las métricas morfológicas principales\n",
    "if 'morphology_df' in locals() and not morphology_df.empty:\n",
    "    morphology_df.to_csv(morphology_output_path, index=False)\n",
    "    print(f\"Resultados morfológicos guardados en: {morphology_output_path}\")\n",
    "\n",
    "# Guardar la tabla con los datos detallados del análisis de Sholl para todos los astrocitos\n",
    "if 'sholl_df' in locals() and not sholl_df.empty:\n",
    "    sholl_df.to_csv(sholl_output_path, index=False)\n",
    "    print(f\"Resultados del análisis de Sholl guardados en: {sholl_output_path}\")"
   ]
  }
 ],
 "metadata": {
  "kernelspec": {
   "display_name": "venv",
   "language": "python",
   "name": "python3"
  },
  "language_info": {
   "codemirror_mode": {
    "name": "ipython",
    "version": 3
   },
   "file_extension": ".py",
   "mimetype": "text/x-python",
   "name": "python",
   "nbconvert_exporter": "python",
   "pygments_lexer": "ipython3",
   "version": "3.12.3"
  }
 },
 "nbformat": 4,
 "nbformat_minor": 5
}
